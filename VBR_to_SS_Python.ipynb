{
 "cells": [
  {
   "cell_type": "markdown",
   "metadata": {},
   "source": [
    "# Data Preparation"
   ]
  },
  {
   "cell_type": "code",
   "execution_count": 1,
   "metadata": {},
   "outputs": [],
   "source": [
    "#importing libraries:\n",
    "\n",
    "import numpy as np\n",
    "from pandas import Series,DataFrame\n",
    "import pandas as pd\n",
    "import datetime as dt\n",
    "import janitor\n",
    "import matplotlib as mpl\n",
    "import matplotlib.pyplot as plt\n",
    "import seaborn as sns\n"
   ]
  },
  {
   "cell_type": "markdown",
   "metadata": {},
   "source": [
    "Importing All Flat files for analysis:"
   ]
  },
  {
   "cell_type": "code",
   "execution_count": 2,
   "metadata": {
    "scrolled": true
   },
   "outputs": [
    {
     "data": {
      "text/plain": [
       "datetime64[ns]     4\n",
       "float64           12\n",
       "int64              7\n",
       "object            44\n",
       "dtype: int64"
      ]
     },
     "execution_count": 2,
     "metadata": {},
     "output_type": "execute_result"
    }
   ],
   "source": [
    "#Contracts:\n",
    "contracts =  pd.read_excel('Contracts June Snapshot -Active and ND.xlsx')\n",
    "contracts =  pd.DataFrame(contracts)\n",
    "\n",
    "# Creating a coulumn for contract_line_number:\n",
    "contracts['contract_line_number'] = contracts.ContractNumber.astype(str) + \"-\" + contracts.ContractItemNumber.astype(str)\n",
    "\n",
    "# Selecting only VBR and Support Services records and restoring contracts to those:\n",
    "contracts_filtered = contracts[contracts['Portfolio'].isin([\"VBR\", \"Support Services\"])]\n",
    "contracts = pd.DataFrame(contracts_filtered)\n",
    "\n",
    "contracts.get_dtype_counts()"
   ]
  },
  {
   "cell_type": "code",
   "execution_count": 3,
   "metadata": {},
   "outputs": [
    {
     "data": {
      "text/plain": [
       "array(['Support Services', 'VBR'], dtype=object)"
      ]
     },
     "execution_count": 3,
     "metadata": {},
     "output_type": "execute_result"
    }
   ],
   "source": [
    "contracts.Portfolio.unique()"
   ]
  },
  {
   "cell_type": "code",
   "execution_count": 4,
   "metadata": {},
   "outputs": [],
   "source": [
    "#ITSM:\n",
    "itsm = pd.read_excel('itsm.xlsx').clean_names()\n",
    "\n",
    "#Manfacturer_mapping:\n",
    "manu_mapping =  pd.read_excel('Manufacturer_Std_Mapping V1_new.xlsx').clean_names()\n"
   ]
  },
  {
   "cell_type": "code",
   "execution_count": 5,
   "metadata": {},
   "outputs": [
    {
     "data": {
      "text/plain": [
       "float64     3\n",
       "int64       3\n",
       "object     10\n",
       "dtype: int64"
      ]
     },
     "execution_count": 5,
     "metadata": {},
     "output_type": "execute_result"
    }
   ],
   "source": [
    "#PO:\n",
    "po = pd.read_excel(\"PO_1.xlsx\")\n",
    "po['SalesDocumentItemNumber'] = po['SalesDocumentItemNumber'].astype(np.int64)\n",
    "\n",
    "# Creating a coulumn for sales_document_line_number:\n",
    "po['sales_document_line_number'] = po.SalesDocumentNumber.astype(str) +'-'+ po.SalesDocumentItemNumber.astype(str)\n",
    "\n",
    "po.get_dtype_counts()"
   ]
  },
  {
   "cell_type": "markdown",
   "metadata": {},
   "source": [
    "# Calculating missing NetValueUSD for non-zero ACVBUDGETUSD:"
   ]
  },
  {
   "cell_type": "code",
   "execution_count": 6,
   "metadata": {},
   "outputs": [
    {
     "name": "stderr",
     "output_type": "stream",
     "text": [
      "C:\\Users\\gramener\\Anaconda3\\lib\\site-packages\\ipykernel_launcher.py:6: SettingWithCopyWarning: \n",
      "A value is trying to be set on a copy of a slice from a DataFrame.\n",
      "Try using .loc[row_indexer,col_indexer] = value instead\n",
      "\n",
      "See the caveats in the documentation: http://pandas.pydata.org/pandas-docs/stable/indexing.html#indexing-view-versus-copy\n",
      "  \n",
      "C:\\Users\\gramener\\Anaconda3\\lib\\site-packages\\ipykernel_launcher.py:7: SettingWithCopyWarning: \n",
      "A value is trying to be set on a copy of a slice from a DataFrame.\n",
      "Try using .loc[row_indexer,col_indexer] = value instead\n",
      "\n",
      "See the caveats in the documentation: http://pandas.pydata.org/pandas-docs/stable/indexing.html#indexing-view-versus-copy\n",
      "  import sys\n",
      "C:\\Users\\gramener\\Anaconda3\\lib\\site-packages\\ipykernel_launcher.py:8: SettingWithCopyWarning: \n",
      "A value is trying to be set on a copy of a slice from a DataFrame.\n",
      "Try using .loc[row_indexer,col_indexer] = value instead\n",
      "\n",
      "See the caveats in the documentation: http://pandas.pydata.org/pandas-docs/stable/indexing.html#indexing-view-versus-copy\n",
      "  \n"
     ]
    }
   ],
   "source": [
    "mask1 = contracts[\"ACVUSDBudget\"] != 0\n",
    "mask2 = contracts[\"NetValueUSD\"] == 0\n",
    "\n",
    "contracts_filter = contracts[mask1 & mask2]\n",
    "\n",
    "contracts_filter[\"date_diff_days\"] = pd.to_datetime(contracts_filter[\"End Date\"]) - pd.to_datetime(contracts_filter[\"Start Date\"])\n",
    "contracts_filter[\"ACV_per_day\"] = contracts[\"ACVUSDBudget\"]/365\n",
    "contracts_filter[\"NetValueUSD\"] = contracts_filter[\"ACV_per_day\"] * (contracts_filter[\"date_diff_days\"]).dt.days\n",
    "contracts_filter = contracts_filter[['contract_line_number','NetValueUSD']]\n",
    "\n",
    "#merging back to contracts:\n",
    "contracts_merged_final = contracts.merge(contracts_filter, how=\"left\", on = \"contract_line_number\")\n",
    "contracts_merged_final[\"NetValueUSD_y\"].fillna(contracts_merged_final[\"NetValueUSD_x\"], inplace= True)\n",
    "\n",
    "#Taking only non-zero (ACVBudgetUSD and NetValueUSD_y) observations:\n",
    "mask1 = contracts_merged_final[\"ACVUSDBudget\"] != 0\n",
    "mask2 = contracts_merged_final[\"NetValueUSD_y\"] != 0\n",
    "\n",
    "contracts_merged_final = contracts_merged_final[mask1 & mask2]\n",
    "\n",
    "#Removing NetValueUSD_x as we have adjusted net value for non zero ACVBudgetUSD in NetValueUSD_y:\n",
    "contracts_merged_final.drop(['NetValueUSD_x'], axis=1,inplace = True) \n",
    "\n",
    "#Renaming NetValueUSD_y to NetValueUSD_x:\n",
    "contracts_merged_final.rename(columns = {'NetValueUSD_y':'NetValueUSD_x'}, inplace = True)\n",
    "\n",
    "#Restoring everything to contracts.\n",
    "contracts = pd.DataFrame(contracts_merged_final) "
   ]
  },
  {
   "cell_type": "markdown",
   "metadata": {},
   "source": [
    "# Imputing DD-AM,AP,EU, GLOBAL, MEA:"
   ]
  },
  {
   "cell_type": "code",
   "execution_count": 7,
   "metadata": {},
   "outputs": [],
   "source": [
    "po[\"Manufacturer\"]= po[\"Manufacturer\"].str.replace(\"DD-GLOBAL\", \"DD\", case = False)\n",
    "po[\"Manufacturer\"]= po[\"Manufacturer\"].str.replace(\"DD-AM\", \"DD\", case = False)\n",
    "po[\"Manufacturer\"]= po[\"Manufacturer\"].str.replace(\"DD-AP\", \"DD\", case = False)\n",
    "po[\"Manufacturer\"]= po[\"Manufacturer\"].str.replace(\"DD-EU\", \"DD\", case = False)\n",
    "po[\"Manufacturer\"]= po[\"Manufacturer\"].str.replace(\"DD-MEA\", \"DD\", case = False)\n",
    "contracts[\"ManufacturerCode\"]= contracts[\"ManufacturerCode\"].str.replace(\"DD-GLOBAL\", \"DD\", case = False)\n",
    "contracts[\"ManufacturerCode\"]= contracts[\"ManufacturerCode\"].str.replace(\"DD-AM\", \"DD\", case = False)\n",
    "contracts[\"ManufacturerCode\"]= contracts[\"ManufacturerCode\"].str.replace(\"DD-AP\", \"DD\", case = False)\n",
    "contracts[\"ManufacturerCode\"]= contracts[\"ManufacturerCode\"].str.replace(\"DD-EU\", \"DD\", case = False)\n",
    "contracts[\"ManufacturerCode\"]= contracts[\"ManufacturerCode\"].str.replace(\"DD-MEA\", \"DD\", case = False)"
   ]
  },
  {
   "cell_type": "code",
   "execution_count": 8,
   "metadata": {},
   "outputs": [
    {
     "data": {
      "text/plain": [
       "2837275407.590391"
      ]
     },
     "execution_count": 8,
     "metadata": {},
     "output_type": "execute_result"
    }
   ],
   "source": [
    "contracts[\"NetValueUSD_x\"].sum()"
   ]
  },
  {
   "cell_type": "markdown",
   "metadata": {},
   "source": [
    "# Mapping standard manufactureres names to ITSM from Mapping File:"
   ]
  },
  {
   "cell_type": "code",
   "execution_count": 9,
   "metadata": {},
   "outputs": [],
   "source": [
    "#renaming itsm_manufacturer to manufacturer in manu_mapping\n",
    "manu_mapping.rename(columns = {'itsm_manufacturer':'manufacturer'}, inplace = True)\n",
    "\n",
    "#getting manufacturers standard names in ITSM:\n",
    "itsm_mapping_merged = itsm.merge(manu_mapping, how=\"left\", on = \"manufacturer\")\n",
    "\n",
    "itsm_mapping_merged.standard_mapping.isna().sum()\n",
    "# 4762 not mapped\n",
    "pd.notna(itsm_mapping_merged[\"standard_mapping\"]).sum()\n",
    "# 114311 mapped\n",
    "\n",
    "#Replacing NAs in Standard Mapping with manufacturer as given in manu_mapping file.\n",
    "itsm_mapping_merged[\"standard_mapping\"].fillna(itsm_mapping_merged[\"manufacturer\"], inplace= True)\n",
    "\n",
    "# Resoring to ITSM:\n",
    "itsm = pd.DataFrame(itsm_mapping_merged).clean_names()\n"
   ]
  },
  {
   "cell_type": "markdown",
   "metadata": {},
   "source": [
    "# Merging Contracts, PO and ITSM:"
   ]
  },
  {
   "cell_type": "code",
   "execution_count": 10,
   "metadata": {},
   "outputs": [],
   "source": [
    "#contract_PO:\n",
    "contracts_merged_po = contracts.merge(po, how=\"left\", left_on= \"contract_line_number\", right_on=\"sales_document_line_number\")\n",
    "contracts_merged_po[\"merged_po\"]= np.where(contracts_merged_po['SalesDocumentNumber'].isna() , 0, 1)\n",
    "\n",
    "#contracts_po_itsm:\n",
    "contract_po_itsm_merged = contracts_merged_po.merge(itsm[[\"contract_line_number\",\"standard_mapping\"]], how= \"left\", on=\"contract_line_number\")\n",
    "contract_po_itsm_merged[\"merged_itsm\"]= np.where(contract_po_itsm_merged['standard_mapping'].isna() , 0, 1)\n",
    "\n",
    "#missing itsm manufacturers in contracts_po_itsm:\n",
    "pd.isna(contract_po_itsm_merged[\"standard_mapping\"]).sum()\n",
    "# 173812\n",
    "\n",
    "#here on taking contracts as a single source of all data.\n",
    "contracts = pd.DataFrame(contract_po_itsm_merged).clean_names()"
   ]
  },
  {
   "cell_type": "markdown",
   "metadata": {},
   "source": [
    "# Vendor Standardisation:"
   ]
  },
  {
   "cell_type": "code",
   "execution_count": 11,
   "metadata": {},
   "outputs": [],
   "source": [
    "contracts_manufac_filter = contracts[[\"contract_line_number\",\"manufacturer\",\"manufacturercode\",\"vendor\",\"standard_mapping\"]]\n",
    "vendor_mapper =pd.DataFrame(manu_mapping)\n",
    "\n",
    "vendor_mapper.rename(columns = {'manufacturer':'vendor'}, inplace = True)\n",
    "vendor_mapper.rename(columns = {'standard_mapping':'standard_mapping_vendor'}, inplace = True)\n",
    "contracts_manufac_filter_1 = contracts_manufac_filter[[\"contract_line_number\",\"vendor\"]].merge(vendor_mapper, how=\"left\", on = \"vendor\")\n",
    "\n",
    "#Replacing NA in standardised_vendor with existing vendor missing in vendor_mapper:\n",
    "contracts_manufac_filter_1[\"standard_mapping_vendor\"].fillna(contracts_manufac_filter_1[\"vendor\"], inplace= True)\n",
    "\n",
    "contracts_manufac_filter_1= pd.DataFrame(contracts_manufac_filter_1.drop(contracts_manufac_filter_1.index[390786:390818]))\n",
    "\n",
    "#Arranging Contract_line_number and Vendor for cbind:\n",
    "contracts = contracts.sort_values(by=[\"contract_line_number\",\"vendor\"])\n",
    "contracts_manufac_filter_1 = contracts_manufac_filter_1.sort_values(by=[\"contract_line_number\",\"vendor\"])\n",
    "\n",
    "#cbinding standardised vendor to contracts:\n",
    "contracts = contracts.drop(columns=[\"vendor\"])\n",
    "contracts_manufac_filter_1 = contracts_manufac_filter_1.drop(columns=[\"vendor\"])\n",
    "contracts = pd.concat([contracts, contracts_manufac_filter_1], axis=1)\n",
    "\n",
    "#removing extra \"Contract_Line_Number col. \"\n",
    "contracts=contracts.drop(columns=contracts.columns[85])\n",
    "contracts['contract_line_number'] = contracts.contractnumber.astype(str) + \"-\" + contracts.contractitemnumber.astype(str)\n",
    "\n",
    "# renaming standard_mapping_vendor to vendor\n",
    "contracts.rename(columns = {'standard_mapping_vendor':'vendor'}, inplace = True)"
   ]
  },
  {
   "cell_type": "markdown",
   "metadata": {},
   "source": [
    "# Manufacturer Mapping:"
   ]
  },
  {
   "cell_type": "code",
   "execution_count": 13,
   "metadata": {},
   "outputs": [],
   "source": [
    "contracts[\"manufacturer_po\"] = contracts[\"manufacturer\"]\n",
    "contracts = contracts.drop(columns=[\"manufacturer\"])\n",
    "\n",
    "# Re-assigning manufacturer: \n",
    "contracts[\"manufacturer\"] = np.where(contracts[\"portfolio\"]==\"VBR\", contracts[\"manufacturercode\"], contracts[\"manufacturer_po\"])\n",
    "\n",
    "mask_1 = contracts[\"portfolio\"]==\"VBR\"\n",
    "mask_2 = contracts[\"manufacturer\"].isna()\n",
    "contracts[\"manufacturer\"] = np.where(mask_1 & mask_2, contracts[\"vendor\"], contracts[\"manufacturer\"])\n",
    "\n",
    "mask_3 = contracts[\"portfolio\"]==\"Support Services\"\n",
    "mask_4 = contracts[\"merged_po\"] == 0\n",
    "contracts[\"manufacturer\"] = np.where(mask_3 & mask_4, contracts[\"standard_mapping\"], contracts[\"manufacturer\"])\n",
    "\n",
    "#IF ALSO DD then take from vendor:\n",
    "mask_5 = contracts[\"merged_po\"] == 1\n",
    "mask_6 = contracts[\"manufacturer\"].isna()\n",
    "mask_8 = contracts[\"manufacturer\"] == \"DD\"\n",
    "contracts[\"manufacturer\"] = np.where(mask_3 & mask_5 & (mask_6 | mask_8), contracts[\"vendor\"], contracts[\"manufacturer\"])\n",
    "\n",
    "mask_7 = contracts[\"manufacturer\"].isna() \n",
    "mask_9 = contracts[\"manufacturer\"] == \"DD\"\n",
    "\n",
    "contracts[\"manufacturer\"] = np.where(mask_3 & mask_5 & mask_7 | mask_9, \"DD-UPTIME\", contracts[\"manufacturer\"])\n",
    "contracts[\"manufacturer\"].fillna(\"DD-UPTIME\", inplace= True)\n",
    "\n",
    "#merged_itsm:\n",
    "contracts[\"merged_itsm\"]= np.where(contracts[\"manufacturer\"] == contracts[\"standard_mapping\"],1,0)\n",
    "\n",
    "#Removing manufacturer_po:\n",
    "contracts=contracts.drop(columns=[\"manufacturer_po\"])"
   ]
  },
  {
   "cell_type": "markdown",
   "metadata": {},
   "source": [
    "# Creating TCV split up:"
   ]
  },
  {
   "cell_type": "code",
   "execution_count": 14,
   "metadata": {
    "scrolled": true
   },
   "outputs": [],
   "source": [
    "# client_country & client_country_manufacturer combinations:\n",
    "\n",
    "#client_country:\n",
    "contracts[\"client_country\"] = contracts.adjusted_client_domain_description.astype(str) + \"-\" + contracts.country.astype(str)\n",
    "\n",
    "#client_country_manufacturer:\n",
    "contracts[\"client_country_manufacturer\"] = contracts.client_country.astype(str) + \"-\" + contracts.manufacturer.astype(str)\n"
   ]
  },
  {
   "cell_type": "code",
   "execution_count": 15,
   "metadata": {},
   "outputs": [],
   "source": [
    "# Separate DF for vbr and ss :\n",
    "mask_1 = contracts[\"portfolio\"]==\"VBR\"\n",
    "mask_2 = contracts[\"portfolio\"]==\"Support Services\"\n",
    "\n",
    "df_vbr = contracts[mask_1]\n",
    "df_ss  = contracts[mask_2] "
   ]
  },
  {
   "cell_type": "code",
   "execution_count": 16,
   "metadata": {},
   "outputs": [
    {
     "name": "stderr",
     "output_type": "stream",
     "text": [
      "C:\\Users\\gramener\\Anaconda3\\lib\\site-packages\\ipykernel_launcher.py:16: SettingWithCopyWarning: \n",
      "A value is trying to be set on a copy of a slice from a DataFrame.\n",
      "Try using .loc[row_indexer,col_indexer] = value instead\n",
      "\n",
      "See the caveats in the documentation: http://pandas.pydata.org/pandas-docs/stable/indexing.html#indexing-view-versus-copy\n",
      "  app.launch_new_instance()\n",
      "C:\\Users\\gramener\\Anaconda3\\lib\\site-packages\\ipykernel_launcher.py:21: SettingWithCopyWarning: \n",
      "A value is trying to be set on a copy of a slice from a DataFrame\n",
      "\n",
      "See the caveats in the documentation: http://pandas.pydata.org/pandas-docs/stable/indexing.html#indexing-view-versus-copy\n"
     ]
    }
   ],
   "source": [
    "#Creating TCV split up: only for \"Support Services\".\n",
    "total_spend_value = df_ss.groupby(\"contract_line_number\").agg({\"spend_value_usd\" : \"sum\",\"client_country_manufacturer\":\"nunique\"}).reset_index()\n",
    "total_spend_value.rename(columns = {'spend_value_usd':'total_spend_value','client_country_manufacturer':'count'}, inplace = True)\n",
    "total_spend_value = pd.DataFrame(total_spend_value)\n",
    "\n",
    "df_ss = df_ss.merge(total_spend_value, how =\"left\", on=\"contract_line_number\")\n",
    "df_ss[\"net_value_usd_x_1\"] = df_ss[\"netvalueusd_x\"]/df_ss[\"count\"]\n",
    "\n",
    "#conditions = [(df_ss[\"spend_value_usd\"]==0) | (df_ss[\"total_spend_value\"]==0)]\n",
    "#choices = [np.nan]\n",
    "#df_ss[\"proportion\"] = np.select(conditions, choices, default= (df_ss[\"spend_value_usd\"])/(df_ss[\"total_spend_value\"]))\n",
    "\n",
    "df_ss[\"proportion\"] = df_ss[\"spend_value_usd\"]/np.where((df_ss[\"spend_value_usd\"]==0)|(df_ss[\"total_spend_value\"]==0),np.nan,df_ss[\"total_spend_value\"])\n",
    "pos_na = df_ss.index[df_ss[\"proportion\"].apply(np.isnan)]\n",
    "df_na = df_ss.iloc[pos_na]\n",
    "df_na[\"cln\"] = df_na[\"contract_line_number\"]\n",
    "df_na1 = df_na.groupby(\"contract_line_number\").agg({\"cln\" :\"count\"}).reset_index()\n",
    "df_na1.rename(columns = {'cln':'count'}, inplace = True)\n",
    "df_na1 = pd.DataFrame(df_na1.assign(proportion_new = lambda x: 1/df_na1[\"count\"]))\n",
    "df_na2 = df_na.merge(df_na1[[\"contract_line_number\",\"proportion_new\"]], how=\"inner\", on=\"contract_line_number\" )\n",
    "df_ss[\"proportion\"][pos_na] = df_na2[\"proportion_new\"]\n",
    "\n"
   ]
  },
  {
   "cell_type": "code",
   "execution_count": 17,
   "metadata": {},
   "outputs": [
    {
     "name": "stderr",
     "output_type": "stream",
     "text": [
      "C:\\Users\\gramener\\Anaconda3\\lib\\site-packages\\ipykernel_launcher.py:2: SettingWithCopyWarning: \n",
      "A value is trying to be set on a copy of a slice from a DataFrame.\n",
      "Try using .loc[row_indexer,col_indexer] = value instead\n",
      "\n",
      "See the caveats in the documentation: http://pandas.pydata.org/pandas-docs/stable/indexing.html#indexing-view-versus-copy\n",
      "  \n"
     ]
    }
   ],
   "source": [
    "#Creating TCV split up: only for \"VBR\".\n",
    "df_vbr[\"cln\"] = df_vbr[\"contract_line_number\"]\n",
    "vbr_cli_count = df_vbr.groupby(\"contract_line_number\").agg({\"cln\" :\"count\"}).reset_index()\n",
    "vbr_cli_count.rename(columns = {'cln':'count'}, inplace = True)\n",
    "vbr_cli_count = pd.DataFrame(vbr_cli_count.assign(proportion = lambda x: 1/vbr_cli_count[\"count\"]))\n",
    "vbr_cli_count = pd.DataFrame(vbr_cli_count)\n",
    "df_vbr = df_vbr.merge(vbr_cli_count, how=\"left\", on=\"contract_line_number\")\n",
    "df_vbr[\"net_value_usd_x_1\"] = df_vbr[\"netvalueusd_x\"]\n"
   ]
  },
  {
   "cell_type": "code",
   "execution_count": 18,
   "metadata": {},
   "outputs": [],
   "source": [
    "# Removing Excess cloumns in df_ss and df_vbr before appending both to one as contracts.\n",
    "df_vbr=df_vbr.drop(columns=[\"count\"])\n",
    "df_vbr=df_vbr.drop(columns=[\"cln\"])\n",
    "df_ss=df_ss.drop(columns=[\"total_spend_value\"])\n",
    "df_ss=df_ss.drop(columns=[\"count\"])"
   ]
  },
  {
   "cell_type": "code",
   "execution_count": 19,
   "metadata": {
    "scrolled": false
   },
   "outputs": [
    {
     "name": "stderr",
     "output_type": "stream",
     "text": [
      "C:\\Users\\gramener\\Anaconda3\\lib\\site-packages\\pandas\\core\\frame.py:6692: FutureWarning: Sorting because non-concatenation axis is not aligned. A future version\n",
      "of pandas will change to not sort by default.\n",
      "\n",
      "To accept the future behavior, pass 'sort=False'.\n",
      "\n",
      "To retain the current behavior and silence the warning, pass 'sort=True'.\n",
      "\n",
      "  sort=sort)\n"
     ]
    }
   ],
   "source": [
    "# Appending df_ss and df_vbr:\n",
    "contracts_1 = df_ss.append(df_vbr, ignore_index=True)"
   ]
  },
  {
   "cell_type": "code",
   "execution_count": 20,
   "metadata": {},
   "outputs": [],
   "source": [
    "# Net_Value_USD SPLIT :\n",
    "contracts_1[\"net_value_usd_x_calc\"] = contracts_1[\"net_value_usd_x_1\"] * contracts_1[\"proportion\"]"
   ]
  },
  {
   "cell_type": "code",
   "execution_count": 21,
   "metadata": {},
   "outputs": [],
   "source": [
    "# Validation Check merged_Netvalue:\n",
    "merged_netvalue = contracts_1[\"net_value_usd_x_calc\"].sum()\n",
    "\n",
    "vbr_netvalue = contracts_1[contracts_1['portfolio'].isin([\"VBR\"])]\n",
    "vbr_netvalue = vbr_netvalue[\"net_value_usd_x_calc\"].sum()\n",
    "\n",
    "ss_netvalue = contracts_1[contracts_1['portfolio'].isin([\"Support Services\"])]\n",
    "ss_netvalue = ss_netvalue[\"net_value_usd_x_calc\"].sum()"
   ]
  },
  {
   "cell_type": "code",
   "execution_count": 22,
   "metadata": {},
   "outputs": [
    {
     "data": {
      "text/plain": [
       "2772281370.1523523"
      ]
     },
     "execution_count": 22,
     "metadata": {},
     "output_type": "execute_result"
    }
   ],
   "source": [
    "# Total-TCV:\n",
    "merged_netvalue"
   ]
  },
  {
   "cell_type": "code",
   "execution_count": 23,
   "metadata": {},
   "outputs": [
    {
     "data": {
      "text/plain": [
       "1201418632.4175606"
      ]
     },
     "execution_count": 23,
     "metadata": {},
     "output_type": "execute_result"
    }
   ],
   "source": [
    "# vbr-TCV:\n",
    "vbr_netvalue"
   ]
  },
  {
   "cell_type": "code",
   "execution_count": 24,
   "metadata": {},
   "outputs": [
    {
     "data": {
      "text/plain": [
       "1570862737.734791"
      ]
     },
     "execution_count": 24,
     "metadata": {},
     "output_type": "execute_result"
    }
   ],
   "source": [
    "# ss-TCV:\n",
    "ss_netvalue"
   ]
  },
  {
   "cell_type": "markdown",
   "metadata": {},
   "source": [
    "# DERIVED - METRICS\n"
   ]
  },
  {
   "cell_type": "code",
   "execution_count": 24,
   "metadata": {},
   "outputs": [],
   "source": [
    "#client_manufacturer:\n",
    "contracts_1[\"client_manufacturer\"] = contracts_1.adjusted_client_domain_description.astype(str) + \"-\" + contracts_1.manufacturer.astype(str)"
   ]
  },
  {
   "cell_type": "code",
   "execution_count": 25,
   "metadata": {},
   "outputs": [
    {
     "name": "stderr",
     "output_type": "stream",
     "text": [
      "C:\\Users\\gramener\\Anaconda3\\lib\\site-packages\\ipykernel_launcher.py:3: SettingWithCopyWarning: \n",
      "A value is trying to be set on a copy of a slice from a DataFrame.\n",
      "Try using .loc[row_indexer,col_indexer] = value instead\n",
      "\n",
      "See the caveats in the documentation: http://pandas.pydata.org/pandas-docs/stable/indexing.html#indexing-view-versus-copy\n",
      "  This is separate from the ipykernel package so we can avoid doing imports until\n"
     ]
    },
    {
     "data": {
      "text/plain": [
       "343714"
      ]
     },
     "execution_count": 25,
     "metadata": {},
     "output_type": "execute_result"
    }
   ],
   "source": [
    "#client_country_uptime:\n",
    "client_country_uptime = contracts_1[contracts_1['portfolio'].isin([\"Support Services\"])]\n",
    "client_country_uptime[\"cc\"] = client_country_uptime[\"client_country\"]\n",
    "\n",
    "client_country_uptime = client_country_uptime.groupby(\"client_country\").agg({\"cc\":\"count\"}).reset_index()\n",
    "client_country_uptime.rename(columns = {'cc':'count'}, inplace = True)\n",
    "client_country_uptime = pd.DataFrame(client_country_uptime)\n",
    "\n",
    "client_country_uptime[\"client_country_uptime\"] = 1\n",
    "client_country_uptime = client_country_uptime[[\"client_country\", \"client_country_uptime\"]]\n",
    "\n",
    "contracts_1 = contracts_1.merge(client_country_uptime, how=\"left\", on= \"client_country\")\n",
    "contracts_1[\"client_country_uptime\"] = np.where(contracts_1[\"client_country_uptime\"].isna(),0,1)\n",
    "\n",
    "contracts_1.client_country_uptime.sum()\n",
    "#343714"
   ]
  },
  {
   "cell_type": "code",
   "execution_count": 26,
   "metadata": {},
   "outputs": [
    {
     "name": "stderr",
     "output_type": "stream",
     "text": [
      "C:\\Users\\gramener\\Anaconda3\\lib\\site-packages\\ipykernel_launcher.py:3: SettingWithCopyWarning: \n",
      "A value is trying to be set on a copy of a slice from a DataFrame.\n",
      "Try using .loc[row_indexer,col_indexer] = value instead\n",
      "\n",
      "See the caveats in the documentation: http://pandas.pydata.org/pandas-docs/stable/indexing.html#indexing-view-versus-copy\n",
      "  This is separate from the ipykernel package so we can avoid doing imports until\n"
     ]
    },
    {
     "data": {
      "text/plain": [
       "361458"
      ]
     },
     "execution_count": 26,
     "metadata": {},
     "output_type": "execute_result"
    }
   ],
   "source": [
    "#client_uptime:\n",
    "client_uptime = contracts_1[contracts_1['portfolio'].isin([\"Support Services\"])]\n",
    "client_uptime[\"c\"] = client_uptime[\"adjusted_client_domain_description\"]\n",
    "\n",
    "client_uptime = client_uptime.groupby(\"adjusted_client_domain_description\").agg({\"c\":\"count\"}).reset_index()\n",
    "client_uptime.rename(columns = {'c':'count'}, inplace = True)\n",
    "client_uptime = pd.DataFrame(client_uptime)\n",
    "\n",
    "client_uptime[\"client_uptime\"] = 1\n",
    "client_uptime = client_uptime[[\"adjusted_client_domain_description\", \"client_uptime\"]]\n",
    "\n",
    "contracts_1 = contracts_1.merge(client_uptime, how=\"left\", on= \"adjusted_client_domain_description\")\n",
    "contracts_1[\"client_uptime\"] = np.where(contracts_1[\"client_uptime\"].isna(),0,1)\n",
    "\n",
    "contracts_1.client_uptime.sum()\n",
    "#361458"
   ]
  },
  {
   "cell_type": "code",
   "execution_count": 47,
   "metadata": {},
   "outputs": [],
   "source": [
    "#contracts_copy = pd.DataFrame(contracts_1)"
   ]
  },
  {
   "cell_type": "code",
   "execution_count": 27,
   "metadata": {},
   "outputs": [
    {
     "data": {
      "text/plain": [
       "351005"
      ]
     },
     "execution_count": 27,
     "metadata": {},
     "output_type": "execute_result"
    }
   ],
   "source": [
    "#multiple_overall:\n",
    "multiple_overall = contracts_1.groupby(\"client_country\").agg({\"manufacturer\":\"nunique\"}).reset_index()\n",
    "multiple_overall.rename(columns = {'manufacturer':'count'}, inplace = True)\n",
    "multiple_overall = multiple_overall[multiple_overall[\"count\"]>1]\n",
    "multiple_overall = pd.DataFrame(multiple_overall)\n",
    "\n",
    "multiple_overall[\"multiple_overall\"] = 1\n",
    "\n",
    "multiple_overall = multiple_overall[[\"client_country\", \"multiple_overall\"]]\n",
    "\n",
    "contracts_1 = contracts_1.merge(multiple_overall, how=\"left\", on= \"client_country\")\n",
    "contracts_1[\"multiple_overall\"] = np.where(contracts_1[\"multiple_overall\"].isna(),0,1)\n",
    "contracts_1.multiple_overall.sum()\n",
    "#351005"
   ]
  },
  {
   "cell_type": "code",
   "execution_count": 28,
   "metadata": {},
   "outputs": [],
   "source": [
    "#client_country_manufacturer_both_1_uptime_2_vbr_3 \n",
    "client_country_manufacturer_both_1_uptime_2_vbr_3 = pd.DataFrame(contracts_1)\n",
    "\n",
    "client_country_manufacturer_both_1_uptime_2_vbr_3 = client_country_manufacturer_both_1_uptime_2_vbr_3.groupby([\"client_country_manufacturer\",\"portfolio\"]).agg({\"net_value_usd_x_calc\":\"sum\"}).reset_index()\n",
    "client_country_manufacturer_both_1_uptime_2_vbr_3.rename(columns = {'net_value_usd_x_calc':'tcv'}, inplace = True)\n",
    "client_country_manufacturer_both_1_uptime_2_vbr_3 = pd.DataFrame(client_country_manufacturer_both_1_uptime_2_vbr_3)\n",
    "\n",
    "#Melt net_value_c_calc into VBR and SS:\n",
    "client_country_manufacturer_both_1_uptime_2_vbr_3=client_country_manufacturer_both_1_uptime_2_vbr_3.pivot_table(index=['client_country_manufacturer'],columns='portfolio',values='tcv',fill_value=0)\n",
    "client_country_manufacturer_both_1_uptime_2_vbr_3[\"total\"] = client_country_manufacturer_both_1_uptime_2_vbr_3[\"Support Services\"] + client_country_manufacturer_both_1_uptime_2_vbr_3[\"VBR\"]\n",
    "\n",
    "# Nested condition for assigning 1,2,3,4:\n",
    "conditions = [(client_country_manufacturer_both_1_uptime_2_vbr_3[\"Support Services\"] != 0) & (client_country_manufacturer_both_1_uptime_2_vbr_3[\"VBR\"]!=0),\n",
    "             (client_country_manufacturer_both_1_uptime_2_vbr_3[\"Support Services\"] != 0) & (client_country_manufacturer_both_1_uptime_2_vbr_3[\"VBR\"]==0),\n",
    "             (client_country_manufacturer_both_1_uptime_2_vbr_3[\"Support Services\"] == 0) & (client_country_manufacturer_both_1_uptime_2_vbr_3[\"VBR\"]!=0)]\n",
    "choices = [1,2,3]\n",
    "client_country_manufacturer_both_1_uptime_2_vbr_3[\"client_country_manufacturer_both_1_uptime_2_vbr_3\"] = np.select(conditions, choices, default= 4)\n",
    "\n",
    "#Reseting Indexcolumn:\n",
    "client_country_manufacturer_both_1_uptime_2_vbr_3 = client_country_manufacturer_both_1_uptime_2_vbr_3.reset_index()\n",
    "client_country_manufacturer_both_1_uptime_2_vbr_3 = client_country_manufacturer_both_1_uptime_2_vbr_3[[\"client_country_manufacturer\",\"client_country_manufacturer_both_1_uptime_2_vbr_3\"]]\n",
    "\n",
    "#merge back to contracts:\n",
    "client_country_manufacturer_both_1_uptime_2_vbr_3 = pd.DataFrame(client_country_manufacturer_both_1_uptime_2_vbr_3)\n",
    "contracts_1 = contracts_1.merge(client_country_manufacturer_both_1_uptime_2_vbr_3, how=\"left\", on= \"client_country_manufacturer\")\n",
    "\n",
    "contracts_1[\"client_country_manufacturer_both_1_uptime_2_vbr_3\"] = np.where(contracts_1[\"client_country_manufacturer_both_1_uptime_2_vbr_3\"].isna(),4,contracts_1[\"client_country_manufacturer_both_1_uptime_2_vbr_3\"])\n",
    "\n"
   ]
  },
  {
   "cell_type": "code",
   "execution_count": 29,
   "metadata": {},
   "outputs": [],
   "source": [
    "# renaming:\n",
    "contracts_1.rename(columns = {'manufacturerpartnumber_x':'manufacturer_part_number'}, inplace = True)\n",
    "#removing standard_mapping:\n",
    "contracts_1 = contracts_1.drop(columns=[\"standard_mapping\"])\n"
   ]
  },
  {
   "cell_type": "code",
   "execution_count": 30,
   "metadata": {},
   "outputs": [
    {
     "name": "stderr",
     "output_type": "stream",
     "text": [
      "C:\\Users\\gramener\\Anaconda3\\lib\\site-packages\\ipykernel_launcher.py:19: SettingWithCopyWarning: \n",
      "A value is trying to be set on a copy of a slice from a DataFrame.\n",
      "Try using .loc[row_indexer,col_indexer] = value instead\n",
      "\n",
      "See the caveats in the documentation: http://pandas.pydata.org/pandas-docs/stable/indexing.html#indexing-view-versus-copy\n"
     ]
    }
   ],
   "source": [
    "# Success_play 3 new logic:\n",
    "\n",
    "sp3_data = contracts_1.groupby([\"client_manufacturer\",\"portfolio\"]).agg({\"net_value_usd_x_calc\":\"sum\"}).reset_index()\n",
    "sp3_data.rename(columns = {'net_value_usd_x_calc':'tcv'}, inplace = True)\n",
    "sp3_data = pd.DataFrame(sp3_data)\n",
    "\n",
    "#melt net valu into VBR and Support Services.\n",
    "sp3_data=sp3_data.pivot_table(index=['client_manufacturer'],columns='portfolio',values='tcv',fill_value=0)\n",
    "sp3_data = sp3_data.reset_index()\n",
    "sp3_data[\"grand_total\"] = sp3_data[\"Support Services\"] + sp3_data[\"VBR\"]\n",
    "\n",
    "#grouping by client-manufacturer and getting net value for each client manufacturer group:\n",
    "sp3_data = sp3_data.groupby(\"client_manufacturer\").agg({\"VBR\":\"sum\", \"Support Services\":\"sum\"}).reset_index()\n",
    "sp3_data.rename(columns = {'VBR':'total_vbr','Support Services':'total_ss'}, inplace = True)\n",
    "\n",
    "# flagging client_manufacturer combination having both vbr and ss:\n",
    "\n",
    "distinct_client_country = sp3_data[(sp3_data[\"total_vbr\"]!= 0) & (sp3_data[\"total_ss\"]!= 0)]\n",
    "distinct_client_country[\"flag\"] = 1\n",
    "distinct_client_country = distinct_client_country[[\"client_manufacturer\",\"flag\"]]\n",
    "\n",
    "#merging distinct_client_country with contracts_1 to get flag.\n",
    "contracts_1 = contracts_1.merge(distinct_client_country, how=\"left\", on=\"client_manufacturer\")\n",
    "contracts_1[\"flag\"] = np.where(contracts_1[\"flag\"].isna(),0,1)\n",
    "\n",
    "s3_ss = contracts_1[contracts_1[\"portfolio\"] == \"Support Services\"]\n",
    "s3_ss = pd.unique(s3_ss[\"client_country_manufacturer\"])\n",
    "s3_ss = pd.DataFrame(s3_ss)\n",
    "\n",
    "s3_vbr = contracts_1[contracts_1[\"portfolio\"] == \"VBR\"]\n",
    "s3_vbr = pd.unique(s3_vbr[\"client_country_manufacturer\"])\n",
    "s3_vbr = pd.DataFrame(s3_vbr)\n",
    "\n",
    "s3_ss[\"f\"] = \"ss\"\n",
    "s3_vbr[\"f\"] = \"vbr\"\n",
    "\n",
    "s3_ss.rename(columns = {0:'client_country_manufacturer'}, inplace = True)\n",
    "s3_vbr.rename(columns = {0:'client_country_manufacturer'}, inplace = True)\n",
    "\n",
    "vbr_left = s3_vbr.merge(s3_ss, how= \"left\", on=\"client_country_manufacturer\")\n",
    "vbr_left[\"check\"] = np.where(vbr_left[\"f_y\"].isna(),1,0)\n",
    "vbr_left = vbr_left[[\"client_country_manufacturer\", \"check\"]]\n",
    "\n",
    "contracts_1 = contracts_1.merge(vbr_left, how = \"left\", on=\"client_country_manufacturer\")\n",
    "contracts_1[\"check\"] = np.where(contracts_1[\"check\"].isna(),0,1)\n",
    "contracts_1[\"check_final\"] = np.where((contracts_1[\"flag\"]==1) & (contracts_1[\"check\"]==1) ,1,0)\n",
    "\n"
   ]
  },
  {
   "cell_type": "code",
   "execution_count": 31,
   "metadata": {},
   "outputs": [],
   "source": [
    "# Calculating acvusd_budget_calc:\n",
    "contracts_1[\"acvusd_budget_calc\"] = contracts_1[\"acvusdbudget\"] * contracts_1[\"proportion\"]\n",
    "\n",
    "contracts_1.acvusd_budget_calc.sum()\n",
    "# 1750717484.739311"
   ]
  },
  {
   "cell_type": "code",
   "execution_count": 35,
   "metadata": {},
   "outputs": [],
   "source": [
    "# CALCULATING SUCCESS_PLAYS:\n",
    "\n",
    "contracts_1[\"success_play_1\"] = np.where((contracts_1[\"client_country_manufacturer_both_1_uptime_2_vbr_3\"] ==1),1,0)\n",
    "\n",
    "contracts_1[\"success_play_2\"] = np.where(((contracts_1[\"multiple_overall\"] ==1) & (contracts_1[\"success_play_1\"] ==0) & (contracts_1[\"client_country_uptime\"] ==1) & (contracts_1[\"client_country_manufacturer_both_1_uptime_2_vbr_3\"] ==3)) ,1,0)\n",
    "\n",
    "contracts_1[\"success_play_3\"] = np.where(((contracts_1[\"client_country_manufacturer_both_1_uptime_2_vbr_3\"] ==3) & (contracts_1[\"check_final\"]==1)),1,0)\n",
    "\n",
    "contracts_1[\"success_play_4\"] = np.where((contracts_1[\"client_uptime\"]==1),1,0)\n"
   ]
  },
  {
   "cell_type": "code",
   "execution_count": 39,
   "metadata": {},
   "outputs": [],
   "source": [
    "#Validation Check merged_Netvalue:\n",
    "\n",
    "merged_netvalue = contracts_1[\"net_value_usd_x_calc\"].sum()\n",
    "\n",
    "vbr_netvalue = contracts_1[contracts_1['portfolio'].isin([\"VBR\"])]\n",
    "vbr_netvalue = vbr_netvalue[\"net_value_usd_x_calc\"].sum()\n",
    "\n",
    "ss_netvalue = contracts_1[contracts_1['portfolio'].isin([\"Support Services\"])]\n",
    "ss_netvalue = ss_netvalue[\"net_value_usd_x_calc\"].sum()\n"
   ]
  },
  {
   "cell_type": "markdown",
   "metadata": {},
   "source": [
    "# Validating Success_Play Netval:"
   ]
  },
  {
   "cell_type": "code",
   "execution_count": 43,
   "metadata": {},
   "outputs": [
    {
     "data": {
      "text/plain": [
       "566277990.1544968"
      ]
     },
     "execution_count": 43,
     "metadata": {},
     "output_type": "execute_result"
    }
   ],
   "source": [
    "# SS_1\n",
    "SS_1_netval = contracts_1[contracts_1[\"success_play_1\"]==1]\n",
    "SS_1_netval = SS_1_netval[\"net_value_usd_x_calc\"].sum()\n",
    "SS_1_netval"
   ]
  },
  {
   "cell_type": "code",
   "execution_count": 44,
   "metadata": {},
   "outputs": [
    {
     "data": {
      "text/plain": [
       "448214576.465385"
      ]
     },
     "execution_count": 44,
     "metadata": {},
     "output_type": "execute_result"
    }
   ],
   "source": [
    "# SS_2\n",
    "SS_2_netval = contracts_1[contracts_1[\"success_play_2\"]==1]\n",
    "SS_2_netval = SS_2_netval[\"net_value_usd_x_calc\"].sum()\n",
    "SS_2_netval"
   ]
  },
  {
   "cell_type": "code",
   "execution_count": 45,
   "metadata": {},
   "outputs": [
    {
     "data": {
      "text/plain": [
       "291108942.02345276"
      ]
     },
     "execution_count": 45,
     "metadata": {},
     "output_type": "execute_result"
    }
   ],
   "source": [
    "# SS_3\n",
    "SS_3_netval = contracts_1[contracts_1[\"success_play_3\"]==1]\n",
    "SS_3_netval = SS_3_netval[\"net_value_usd_x_calc\"].sum()\n",
    "SS_3_netval"
   ]
  },
  {
   "cell_type": "code",
   "execution_count": 46,
   "metadata": {},
   "outputs": [
    {
     "data": {
      "text/plain": [
       "2538888600.589833"
      ]
     },
     "execution_count": 46,
     "metadata": {},
     "output_type": "execute_result"
    }
   ],
   "source": [
    "# SS_4\n",
    "SS_4_netval = contracts_1[contracts_1[\"success_play_4\"]==1]\n",
    "SS_4_netval = SS_4_netval[\"net_value_usd_x_calc\"].sum()\n",
    "SS_4_netval"
   ]
  },
  {
   "cell_type": "code",
   "execution_count": 48,
   "metadata": {},
   "outputs": [],
   "source": [
    "# Creating TPIC_FLAG:client_country:\n",
    "\n",
    "Tpic = contracts_1.groupby(\"client_country\").agg({\"manufacturer\":\"nunique\"}).reset_index()\n",
    "Tpic.rename(columns = {'manufacturer':'count'}, inplace = True)\n",
    "Tpic = Tpic[Tpic[\"count\"]>1]\n",
    "Tpic[\"tpic\"] = 1\n",
    "Tpic = Tpic[[\"client_country\",\"tpic\"]]\n",
    "Tpic = pd.DataFrame(Tpic)\n",
    "\n",
    "contracts_1= contracts_1.merge(Tpic, how=\"left\" , on=\"client_country\")\n",
    "contracts_1[\"tpic\"] = np.where((contracts_1[\"tpic\"].isna()),0,1)"
   ]
  },
  {
   "cell_type": "code",
   "execution_count": 61,
   "metadata": {},
   "outputs": [],
   "source": [
    "#Output:\n",
    "df1 = pd.DataFrame(contracts_1)\n",
    "df1.to_excel(\"CLI_view_python_op.xlsx\")\n"
   ]
  }
 ],
 "metadata": {
  "kernelspec": {
   "display_name": "Python 3",
   "language": "python",
   "name": "python3"
  },
  "language_info": {
   "codemirror_mode": {
    "name": "ipython",
    "version": 3
   },
   "file_extension": ".py",
   "mimetype": "text/x-python",
   "name": "python",
   "nbconvert_exporter": "python",
   "pygments_lexer": "ipython3",
   "version": "3.7.3"
  },
  "varInspector": {
   "cols": {
    "lenName": 16,
    "lenType": 16,
    "lenVar": 40
   },
   "kernels_config": {
    "python": {
     "delete_cmd_postfix": "",
     "delete_cmd_prefix": "del ",
     "library": "var_list.py",
     "varRefreshCmd": "print(var_dic_list())"
    },
    "r": {
     "delete_cmd_postfix": ") ",
     "delete_cmd_prefix": "rm(",
     "library": "var_list.r",
     "varRefreshCmd": "cat(var_dic_list()) "
    }
   },
   "oldHeight": 498,
   "position": {
    "height": "520px",
    "left": "732px",
    "right": "20px",
    "top": "88px",
    "width": "563px"
   },
   "types_to_exclude": [
    "module",
    "function",
    "builtin_function_or_method",
    "instance",
    "_Feature"
   ],
   "varInspector_section_display": "block",
   "window_display": false
  }
 },
 "nbformat": 4,
 "nbformat_minor": 2
}
