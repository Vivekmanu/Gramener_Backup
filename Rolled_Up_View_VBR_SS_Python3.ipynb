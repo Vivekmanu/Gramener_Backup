{
 "cells": [
  {
   "cell_type": "markdown",
   "metadata": {},
   "source": [
    "# Data Preparation\n"
   ]
  },
  {
   "cell_type": "code",
   "execution_count": 1,
   "metadata": {},
   "outputs": [],
   "source": [
    "#importing libraries:\n",
    "\n",
    "import numpy as np\n",
    "from pandas import Series,DataFrame\n",
    "import pandas as pd\n",
    "import datetime as dt\n",
    "import janitor\n",
    "import matplotlib\n",
    "\n"
   ]
  },
  {
   "cell_type": "markdown",
   "metadata": {},
   "source": [
    "Importing all data sources:"
   ]
  },
  {
   "cell_type": "code",
   "execution_count": 2,
   "metadata": {},
   "outputs": [],
   "source": [
    "#Contracts:\n",
    "contracts =  pd.read_excel('Contracts June Snapshot -Active and ND.xlsx')\n",
    "contracts =  pd.DataFrame(contracts)\n",
    "\n",
    "# Creating a coulumn for contract_line_number:\n",
    "contracts['contract_line_number'] = contracts.ContractNumber.astype(str) + \"-\" + contracts.ContractItemNumber.astype(str)\n",
    "\n",
    "# Selecting only VBR and Support Services records and restoring contracts to those:\n",
    "contracts_filtered = contracts[contracts['Portfolio'].isin([\"VBR\", \"Support Services\"])]\n",
    "contracts = pd.DataFrame(contracts_filtered)\n"
   ]
  },
  {
   "cell_type": "code",
   "execution_count": 3,
   "metadata": {},
   "outputs": [],
   "source": [
    "#ITSM:\n",
    "itsm = pd.read_excel('itsm.xlsx').clean_names()\n",
    "\n",
    "#Manfacturer_mapping:\n",
    "manu_mapping =  pd.read_excel('Manufacturer_Std_Mapping V1_new.xlsx').clean_names()\n"
   ]
  },
  {
   "cell_type": "code",
   "execution_count": 4,
   "metadata": {},
   "outputs": [],
   "source": [
    "#PO:\n",
    "po = pd.read_excel(\"PO_1.xlsx\")\n",
    "po['SalesDocumentItemNumber'] = po['SalesDocumentItemNumber'].astype(np.int64)\n",
    "\n",
    "# Creating a coulumn for sales_document_line_number:\n",
    "po['sales_document_line_number'] = po.SalesDocumentNumber.astype(str) +'-'+ po.SalesDocumentItemNumber.astype(str)\n"
   ]
  },
  {
   "cell_type": "markdown",
   "metadata": {},
   "source": [
    "# Calculating missing NetValueUSD for non-zero ACVBUDGETUSD:"
   ]
  },
  {
   "cell_type": "code",
   "execution_count": 5,
   "metadata": {},
   "outputs": [
    {
     "name": "stderr",
     "output_type": "stream",
     "text": [
      "C:\\Users\\gramener\\Anaconda3\\lib\\site-packages\\ipykernel_launcher.py:6: SettingWithCopyWarning: \n",
      "A value is trying to be set on a copy of a slice from a DataFrame.\n",
      "Try using .loc[row_indexer,col_indexer] = value instead\n",
      "\n",
      "See the caveats in the documentation: http://pandas.pydata.org/pandas-docs/stable/user_guide/indexing.html#returning-a-view-versus-a-copy\n",
      "  \n",
      "C:\\Users\\gramener\\Anaconda3\\lib\\site-packages\\ipykernel_launcher.py:7: SettingWithCopyWarning: \n",
      "A value is trying to be set on a copy of a slice from a DataFrame.\n",
      "Try using .loc[row_indexer,col_indexer] = value instead\n",
      "\n",
      "See the caveats in the documentation: http://pandas.pydata.org/pandas-docs/stable/user_guide/indexing.html#returning-a-view-versus-a-copy\n",
      "  import sys\n",
      "C:\\Users\\gramener\\Anaconda3\\lib\\site-packages\\ipykernel_launcher.py:8: SettingWithCopyWarning: \n",
      "A value is trying to be set on a copy of a slice from a DataFrame.\n",
      "Try using .loc[row_indexer,col_indexer] = value instead\n",
      "\n",
      "See the caveats in the documentation: http://pandas.pydata.org/pandas-docs/stable/user_guide/indexing.html#returning-a-view-versus-a-copy\n",
      "  \n"
     ]
    }
   ],
   "source": [
    "mask1 = contracts[\"ACVUSDBudget\"] != 0\n",
    "mask2 = contracts[\"NetValueUSD\"] == 0\n",
    "\n",
    "contracts_filter = contracts[mask1 & mask2]\n",
    "\n",
    "contracts_filter[\"date_diff_days\"] = pd.to_datetime(contracts_filter[\"End Date\"]) - pd.to_datetime(contracts_filter[\"Start Date\"])\n",
    "contracts_filter[\"ACV_per_day\"] = contracts[\"ACVUSDBudget\"]/365\n",
    "contracts_filter[\"NetValueUSD\"] = contracts_filter[\"ACV_per_day\"] * (contracts_filter[\"date_diff_days\"]).dt.days\n",
    "contracts_filter = contracts_filter[['contract_line_number','NetValueUSD']]\n",
    "\n",
    "#merging back to contracts:\n",
    "contracts_merged_final = contracts.merge(contracts_filter, how=\"left\", on = \"contract_line_number\")\n",
    "contracts_merged_final[\"NetValueUSD_y\"].fillna(contracts_merged_final[\"NetValueUSD_x\"], inplace= True)\n",
    "\n",
    "#Taking only non-zero (ACVBudgetUSD and NetValueUSD_y) observations:\n",
    "mask1 = contracts_merged_final[\"ACVUSDBudget\"] != 0\n",
    "mask2 = contracts_merged_final[\"NetValueUSD_y\"] != 0\n",
    "\n",
    "contracts_merged_final = contracts_merged_final[mask1 & mask2]\n",
    "\n",
    "#Removing NetValueUSD_x as we have adjusted net value for non zero ACVBudgetUSD in NetValueUSD_y:\n",
    "contracts_merged_final.drop(['NetValueUSD_x'], axis=1,inplace = True) \n",
    "\n",
    "#Renaming NetValueUSD_y to NetValueUSD_x:\n",
    "contracts_merged_final.rename(columns = {'NetValueUSD_y':'NetValueUSD_x'}, inplace = True)\n",
    "\n",
    "#Restoring everything to contracts.\n",
    "contracts = pd.DataFrame(contracts_merged_final) "
   ]
  },
  {
   "cell_type": "markdown",
   "metadata": {},
   "source": [
    "# Imputing DD-AM,AP,EU, GLOBAL, MEA:"
   ]
  },
  {
   "cell_type": "code",
   "execution_count": 6,
   "metadata": {},
   "outputs": [],
   "source": [
    "po[\"Manufacturer\"]= po[\"Manufacturer\"].str.replace(\"DD-GLOBAL\", \"DD\", case = False)\n",
    "po[\"Manufacturer\"]= po[\"Manufacturer\"].str.replace(\"DD-AM\", \"DD\", case = False)\n",
    "po[\"Manufacturer\"]= po[\"Manufacturer\"].str.replace(\"DD-AP\", \"DD\", case = False)\n",
    "po[\"Manufacturer\"]= po[\"Manufacturer\"].str.replace(\"DD-EU\", \"DD\", case = False)\n",
    "po[\"Manufacturer\"]= po[\"Manufacturer\"].str.replace(\"DD-MEA\", \"DD\", case = False)\n",
    "contracts[\"ManufacturerCode\"]= contracts[\"ManufacturerCode\"].str.replace(\"DD-GLOBAL\", \"DD\", case = False)\n",
    "contracts[\"ManufacturerCode\"]= contracts[\"ManufacturerCode\"].str.replace(\"DD-AM\", \"DD\", case = False)\n",
    "contracts[\"ManufacturerCode\"]= contracts[\"ManufacturerCode\"].str.replace(\"DD-AP\", \"DD\", case = False)\n",
    "contracts[\"ManufacturerCode\"]= contracts[\"ManufacturerCode\"].str.replace(\"DD-EU\", \"DD\", case = False)\n",
    "contracts[\"ManufacturerCode\"]= contracts[\"ManufacturerCode\"].str.replace(\"DD-MEA\", \"DD\", case = False)"
   ]
  },
  {
   "cell_type": "code",
   "execution_count": 7,
   "metadata": {},
   "outputs": [
    {
     "data": {
      "text/plain": [
       "2837275407.590391"
      ]
     },
     "execution_count": 7,
     "metadata": {},
     "output_type": "execute_result"
    }
   ],
   "source": [
    "contracts[\"NetValueUSD_x\"].sum()"
   ]
  },
  {
   "cell_type": "markdown",
   "metadata": {},
   "source": [
    "# Mapping standard manufactureres names to ITSM from Mapping File:"
   ]
  },
  {
   "cell_type": "code",
   "execution_count": 8,
   "metadata": {},
   "outputs": [],
   "source": [
    "#renaming itsm_manufacturer to manufacturer in manu_mapping\n",
    "manu_mapping.rename(columns = {'itsm_manufacturer':'manufacturer'}, inplace = True)\n",
    "\n",
    "#getting manufacturers standard names in ITSM:\n",
    "itsm_mapping_merged = itsm.merge(manu_mapping, how=\"left\", on = \"manufacturer\")\n",
    "\n",
    "itsm_mapping_merged.standard_mapping.isna().sum()\n",
    "# 4762 not mapped\n",
    "pd.notna(itsm_mapping_merged[\"standard_mapping\"]).sum()\n",
    "# 114311 mapped\n",
    "\n",
    "#Replacing NAs in Standard Mapping with manufacturer as given in manu_mapping file.\n",
    "itsm_mapping_merged[\"standard_mapping\"].fillna(itsm_mapping_merged[\"manufacturer\"], inplace= True)\n",
    "\n",
    "# Resoring to ITSM:\n",
    "itsm = pd.DataFrame(itsm_mapping_merged).clean_names()"
   ]
  },
  {
   "cell_type": "markdown",
   "metadata": {},
   "source": [
    "# Merging Contracts, PO and ITSM:"
   ]
  },
  {
   "cell_type": "code",
   "execution_count": 9,
   "metadata": {},
   "outputs": [],
   "source": [
    "#contract_PO:\n",
    "contracts_merged_po = contracts.merge(po, how=\"left\", left_on= \"contract_line_number\", right_on=\"sales_document_line_number\")\n",
    "contracts_merged_po[\"merged_po\"]= np.where(contracts_merged_po['SalesDocumentNumber'].isna() , 0, 1)\n",
    "\n",
    "#contracts_po_itsm:\n",
    "contract_po_itsm_merged = contracts_merged_po.merge(itsm[[\"contract_line_number\",\"standard_mapping\"]], how= \"left\", on=\"contract_line_number\")\n",
    "contract_po_itsm_merged[\"merged_itsm\"]= np.where(contract_po_itsm_merged['standard_mapping'].isna() , 0, 1)\n",
    "\n",
    "#missing itsm manufacturers in contracts_po_itsm:\n",
    "pd.isna(contract_po_itsm_merged[\"standard_mapping\"]).sum()\n",
    "# 173812\n",
    "\n",
    "#here on taking contracts as a single source of all data.\n",
    "contracts = pd.DataFrame(contract_po_itsm_merged).clean_names()"
   ]
  },
  {
   "cell_type": "markdown",
   "metadata": {},
   "source": [
    "# Vendor Standardisation:"
   ]
  },
  {
   "cell_type": "code",
   "execution_count": 10,
   "metadata": {},
   "outputs": [],
   "source": [
    "contracts_manufac_filter = contracts[[\"contract_line_number\",\"manufacturer\",\"manufacturercode\",\"vendor\",\"standard_mapping\"]]\n",
    "vendor_mapper =pd.DataFrame(manu_mapping)\n",
    "\n",
    "vendor_mapper.rename(columns = {'manufacturer':'vendor'}, inplace = True)\n",
    "vendor_mapper.rename(columns = {'standard_mapping':'standard_mapping_vendor'}, inplace = True)\n",
    "contracts_manufac_filter_1 = contracts_manufac_filter[[\"contract_line_number\",\"vendor\"]].merge(vendor_mapper, how=\"left\", on = \"vendor\")\n",
    "\n",
    "#Replacing NA in standardised_vendor with existing vendor missing in vendor_mapper:\n",
    "contracts_manufac_filter_1[\"standard_mapping_vendor\"].fillna(contracts_manufac_filter_1[\"vendor\"], inplace= True)\n",
    "\n",
    "contracts_manufac_filter_1= pd.DataFrame(contracts_manufac_filter_1.drop(contracts_manufac_filter_1.index[390786:390818]))\n",
    "\n",
    "#Arranging Contract_line_number and Vendor for cbind:\n",
    "contracts = contracts.sort_values(by=[\"contract_line_number\",\"vendor\"])\n",
    "contracts_manufac_filter_1 = contracts_manufac_filter_1.sort_values(by=[\"contract_line_number\",\"vendor\"])\n",
    "\n",
    "#cbinding standardised vendor to contracts:\n",
    "contracts = contracts.drop(columns=[\"vendor\"])\n",
    "contracts_manufac_filter_1 = contracts_manufac_filter_1.drop(columns=[\"vendor\"])\n",
    "contracts = pd.concat([contracts, contracts_manufac_filter_1], axis=1)\n",
    "\n",
    "#removing extra \"Contract_Line_Number col. \"\n",
    "contracts=contracts.drop(columns=contracts.columns[85])\n",
    "contracts['contract_line_number'] = contracts.contractnumber.astype(str) + \"-\" + contracts.contractitemnumber.astype(str)\n",
    "\n",
    "# renaming standard_mapping_vendor to vendor\n",
    "contracts.rename(columns = {'standard_mapping_vendor':'vendor'}, inplace = True)"
   ]
  },
  {
   "cell_type": "code",
   "execution_count": 11,
   "metadata": {},
   "outputs": [
    {
     "data": {
      "text/plain": [
       "Index(['contractnumber', 'contractitemnumber', 'precedingdocumentnumber',\n",
       "       'start_date', 'end_date', 'soldtopartyname', 'soldtopartycode_x',\n",
       "       'clientdomaincode_x', 'clientdomaindesc',\n",
       "       'adjusted_client_domain_description', 'country', 'region',\n",
       "       'manufacturerpartnumber_x', 'status', 'contractstatusflag',\n",
       "       'account_assignment', 'portfolio', 'plan', 'monitoringflag', 'industry',\n",
       "       'bu', 'cancellationreasondescription', 'cancellation_updated_date',\n",
       "       'contract_term', 'documentcurrencycode', 'acv', 'snapshot',\n",
       "       'acvusdbudget', 'fromdirect', 'confirmation_no_', 'baselineflag',\n",
       "       'renewalflag', 'ci_count', 'csmtag', 'csm_manager', 'bu_name',\n",
       "       'internalclient', 'customer_classification',\n",
       "       'adjustedcustomerclassification', 'manufacturercode',\n",
       "       'salesorganisationcode', 'documenttype', 'billingblock', 'netvalue',\n",
       "       'createdbycode', 'ysascurrencycode', 'ysas', 'ysasusd',\n",
       "       'soldtocustomercode', 'salesofficecode', 'rejectionreasoncode',\n",
       "       'createddate', 'migrated_contracts', 'constriantclientflag', 'gdctype',\n",
       "       'createdby', 'ydvpcurrencycode', 'ydvp', 'ydvpusd', 'yddpcurrencycode',\n",
       "       'yddp', 'yddpusd', 'counter', 'purchaseordernumber', 'accountowner',\n",
       "       'netvalueusd_x', 'salesdocumentnumber', 'salesdocumentitemnumber',\n",
       "       'clientdomaincode_y', 'clientdomain', 'purchasingdocumentnumber',\n",
       "       'manufacturer', 'soldtoparty', 'soldtopartycode_y',\n",
       "       'manufacturerpartnumber_y', 'discount', 'revenuestream_org',\n",
       "       'revenuestreamcode_material', 'netvalueusd', 'spend_value_usd',\n",
       "       'sales_document_line_number', 'merged_po', 'standard_mapping',\n",
       "       'merged_itsm', 'vendor', 'contract_line_number'],\n",
       "      dtype='object')"
      ]
     },
     "execution_count": 11,
     "metadata": {},
     "output_type": "execute_result"
    }
   ],
   "source": [
    "contracts.columns"
   ]
  },
  {
   "cell_type": "markdown",
   "metadata": {},
   "source": [
    "# Manufacturer Mapping:"
   ]
  },
  {
   "cell_type": "code",
   "execution_count": 12,
   "metadata": {},
   "outputs": [],
   "source": [
    "contracts[\"manufacturer_po\"] = contracts[\"manufacturer\"]\n",
    "contracts = contracts.drop(columns=[\"manufacturer\"])\n",
    "\n",
    "# Re-assigning manufacturer: \n",
    "contracts[\"manufacturer\"] = np.where(contracts[\"portfolio\"]==\"VBR\", contracts[\"manufacturercode\"], contracts[\"manufacturer_po\"])\n",
    "\n",
    "mask_1 = contracts[\"portfolio\"]==\"VBR\"\n",
    "mask_2 = contracts[\"manufacturer\"].isna()\n",
    "contracts[\"manufacturer\"] = np.where(mask_1 & mask_2, contracts[\"vendor\"], contracts[\"manufacturer\"])\n",
    "\n",
    "mask_3 = contracts[\"portfolio\"]==\"Support Services\"\n",
    "mask_4 = contracts[\"merged_po\"] == 0\n",
    "contracts[\"manufacturer\"] = np.where(mask_3 & mask_4, contracts[\"standard_mapping\"], contracts[\"manufacturer\"])\n",
    "\n",
    "mask_5 = contracts[\"merged_po\"] == 1\n",
    "mask_6 = contracts[\"manufacturer\"].isna()\n",
    "mask_8 = contracts[\"manufacturer\"] == \"DD\"\n",
    "contracts[\"manufacturer\"] = np.where(mask_3 & mask_5 & mask_6 | mask_8, contracts[\"vendor\"], contracts[\"manufacturer\"])\n",
    "\n",
    "mask_7 = contracts[\"manufacturer\"].isna() \n",
    "contracts[\"manufacturer\"] = np.where(mask_3 & mask_5 & mask_7, \"DD-UPTIME\", contracts[\"manufacturer\"])\n",
    "\n",
    "contracts[\"manufacturer\"].fillna(\"DD-UPTIME\", inplace= True)\n",
    "\n",
    "#merged_itsm:\n",
    "contracts[\"merged_itsm\"]= np.where(contracts[\"manufacturer\"] == contracts[\"standard_mapping\"],1,0)\n",
    "\n",
    "#Removing manufacturer_po:\n",
    "contracts=contracts.drop(columns=[\"manufacturer_po\"])"
   ]
  },
  {
   "cell_type": "markdown",
   "metadata": {},
   "source": [
    "# Adjusting NetValueUSD_x on Final PO and ISM Merged Contracts"
   ]
  },
  {
   "cell_type": "code",
   "execution_count": 13,
   "metadata": {},
   "outputs": [
    {
     "name": "stderr",
     "output_type": "stream",
     "text": [
      "C:\\Users\\gramener\\Anaconda3\\lib\\site-packages\\ipykernel_launcher.py:27: SettingWithCopyWarning: \n",
      "A value is trying to be set on a copy of a slice from a DataFrame.\n",
      "Try using .loc[row_indexer,col_indexer] = value instead\n",
      "\n",
      "See the caveats in the documentation: http://pandas.pydata.org/pandas-docs/stable/user_guide/indexing.html#returning-a-view-versus-a-copy\n",
      "C:\\Users\\gramener\\Anaconda3\\lib\\site-packages\\ipykernel_launcher.py:32: SettingWithCopyWarning: \n",
      "A value is trying to be set on a copy of a slice from a DataFrame\n",
      "\n",
      "See the caveats in the documentation: http://pandas.pydata.org/pandas-docs/stable/user_guide/indexing.html#returning-a-view-versus-a-copy\n"
     ]
    }
   ],
   "source": [
    "# client_country & client_country_manufacturer combinations:\n",
    "#client_country:\n",
    "contracts[\"client_country\"] = contracts.adjusted_client_domain_description.astype(str) + \"-\" + contracts.country.astype(str)\n",
    "\n",
    "#client_country_manufacturer:\n",
    "contracts[\"client_country_manufacturer\"] = contracts.client_country.astype(str) + \"-\" + contracts.manufacturer.astype(str)\n",
    "\n",
    "# Separate DF for vbr and ss :\n",
    "mask_1 = contracts[\"portfolio\"]==\"VBR\"\n",
    "mask_2 = contracts[\"portfolio\"]==\"Support Services\"\n",
    "\n",
    "df_vbr = contracts[mask_1]\n",
    "df_ss  = contracts[mask_2] \n",
    "\n",
    "#Creating TCV split up: only for \"Support Services\".\n",
    "total_spend_value = df_ss.groupby(\"contract_line_number\").agg({\"spend_value_usd\" : \"sum\",\"client_country_manufacturer\":\"nunique\"}).reset_index()\n",
    "total_spend_value.rename(columns = {'spend_value_usd':'total_spend_value','client_country_manufacturer':'count'}, inplace = True)\n",
    "total_spend_value = pd.DataFrame(total_spend_value)\n",
    "\n",
    "df_ss = df_ss.merge(total_spend_value, how =\"left\", on=\"contract_line_number\")\n",
    "df_ss[\"net_value_usd_x_1\"] = df_ss[\"netvalueusd_x\"]/df_ss[\"count\"]\n",
    "\n",
    "\n",
    "df_ss[\"proportion\"] = df_ss[\"spend_value_usd\"]/np.where((df_ss[\"spend_value_usd\"]==0)|(df_ss[\"total_spend_value\"]==0),np.nan,df_ss[\"total_spend_value\"])\n",
    "pos_na = df_ss.index[df_ss[\"proportion\"].apply(np.isnan)]\n",
    "df_na = df_ss.iloc[pos_na]\n",
    "df_na[\"cln\"] = df_na[\"contract_line_number\"]\n",
    "df_na1 = df_na.groupby(\"contract_line_number\").agg({\"cln\" :\"count\"}).reset_index()\n",
    "df_na1.rename(columns = {'cln':'count'}, inplace = True)\n",
    "df_na1 = pd.DataFrame(df_na1.assign(proportion_new = lambda x: 1/df_na1[\"count\"]))\n",
    "df_na2 = df_na.merge(df_na1[[\"contract_line_number\",\"proportion_new\"]], how=\"inner\", on=\"contract_line_number\" )\n",
    "df_ss[\"proportion\"][pos_na] = df_na2[\"proportion_new\"]"
   ]
  },
  {
   "cell_type": "code",
   "execution_count": 14,
   "metadata": {},
   "outputs": [
    {
     "name": "stderr",
     "output_type": "stream",
     "text": [
      "C:\\Users\\gramener\\Anaconda3\\lib\\site-packages\\ipykernel_launcher.py:2: SettingWithCopyWarning: \n",
      "A value is trying to be set on a copy of a slice from a DataFrame.\n",
      "Try using .loc[row_indexer,col_indexer] = value instead\n",
      "\n",
      "See the caveats in the documentation: http://pandas.pydata.org/pandas-docs/stable/user_guide/indexing.html#returning-a-view-versus-a-copy\n",
      "  \n"
     ]
    }
   ],
   "source": [
    "#Creating TCV split up: only for \"VBR\".\n",
    "df_vbr[\"cln\"] = df_vbr[\"contract_line_number\"]\n",
    "vbr_cli_count = df_vbr.groupby(\"contract_line_number\").agg({\"cln\" :\"count\"}).reset_index()\n",
    "vbr_cli_count.rename(columns = {'cln':'count'}, inplace = True)\n",
    "vbr_cli_count = pd.DataFrame(vbr_cli_count.assign(proportion = lambda x: 1/vbr_cli_count[\"count\"]))\n",
    "vbr_cli_count = pd.DataFrame(vbr_cli_count)\n",
    "df_vbr = df_vbr.merge(vbr_cli_count, how=\"left\", on=\"contract_line_number\")\n",
    "df_vbr[\"net_value_usd_x_1\"] = df_vbr[\"netvalueusd_x\"]"
   ]
  },
  {
   "cell_type": "code",
   "execution_count": 15,
   "metadata": {},
   "outputs": [],
   "source": [
    "# Removing Excess cloumns in df_ss and df_vbr before appending both to one as contracts.\n",
    "df_vbr=df_vbr.drop(columns=[\"count\"])\n",
    "df_vbr=df_vbr.drop(columns=[\"cln\"])\n",
    "df_ss=df_ss.drop(columns=[\"total_spend_value\"])\n",
    "df_ss=df_ss.drop(columns=[\"count\"])"
   ]
  },
  {
   "cell_type": "code",
   "execution_count": 16,
   "metadata": {
    "scrolled": true
   },
   "outputs": [
    {
     "name": "stderr",
     "output_type": "stream",
     "text": [
      "C:\\Users\\gramener\\Anaconda3\\lib\\site-packages\\pandas\\core\\frame.py:7116: FutureWarning: Sorting because non-concatenation axis is not aligned. A future version\n",
      "of pandas will change to not sort by default.\n",
      "\n",
      "To accept the future behavior, pass 'sort=False'.\n",
      "\n",
      "To retain the current behavior and silence the warning, pass 'sort=True'.\n",
      "\n",
      "  sort=sort,\n"
     ]
    }
   ],
   "source": [
    "# Appending df_ss and df_vbr:\n",
    "contracts_1 = df_ss.append(df_vbr, ignore_index=True)"
   ]
  },
  {
   "cell_type": "code",
   "execution_count": 17,
   "metadata": {},
   "outputs": [],
   "source": [
    "# Net_Value_USD SPLIT :\n",
    "contracts_1[\"net_value_usd_x_calc\"] = contracts_1[\"net_value_usd_x_1\"] * contracts_1[\"proportion\"]"
   ]
  },
  {
   "cell_type": "code",
   "execution_count": 18,
   "metadata": {},
   "outputs": [],
   "source": [
    "# Validation Check merged_Netvalue:\n",
    "merged_netvalue = contracts_1[\"net_value_usd_x_calc\"].sum()\n",
    "\n",
    "vbr_netvalue = contracts_1[contracts_1['portfolio'].isin([\"VBR\"])]\n",
    "vbr_netvalue = vbr_netvalue[\"net_value_usd_x_calc\"].sum()\n",
    "\n",
    "ss_netvalue = contracts_1[contracts_1['portfolio'].isin([\"Support Services\"])]\n",
    "ss_netvalue = ss_netvalue[\"net_value_usd_x_calc\"].sum()"
   ]
  },
  {
   "cell_type": "markdown",
   "metadata": {},
   "source": [
    "#                             CLIENT_COUNTRY_MANUFACTURER_VIEW"
   ]
  },
  {
   "cell_type": "code",
   "execution_count": 19,
   "metadata": {},
   "outputs": [],
   "source": [
    "#Removing contract_line_number,contractitemnumber,contractnumber :\n",
    "contracts_1 = contracts_1.drop(columns=[\"contract_line_number\",\"contractitemnumber\",\"contractnumber\"])"
   ]
  },
  {
   "cell_type": "markdown",
   "metadata": {},
   "source": [
    "# Creating New Proportions for ccm view"
   ]
  },
  {
   "cell_type": "code",
   "execution_count": 20,
   "metadata": {},
   "outputs": [],
   "source": [
    "# Separate DF for vbr and ss :\n",
    "mask_1 = contracts_1[\"portfolio\"]==\"VBR\"\n",
    "mask_2 = contracts_1[\"portfolio\"]==\"Support Services\"\n",
    "\n",
    "df_vbr = contracts_1[mask_1]\n",
    "df_ss  = contracts_1[mask_2] "
   ]
  },
  {
   "cell_type": "code",
   "execution_count": 21,
   "metadata": {},
   "outputs": [
    {
     "name": "stderr",
     "output_type": "stream",
     "text": [
      "C:\\Users\\gramener\\Anaconda3\\lib\\site-packages\\ipykernel_launcher.py:3: SettingWithCopyWarning: \n",
      "A value is trying to be set on a copy of a slice from a DataFrame.\n",
      "Try using .loc[row_indexer,col_indexer] = value instead\n",
      "\n",
      "See the caveats in the documentation: http://pandas.pydata.org/pandas-docs/stable/user_guide/indexing.html#returning-a-view-versus-a-copy\n",
      "  This is separate from the ipykernel package so we can avoid doing imports until\n"
     ]
    }
   ],
   "source": [
    "#Creating TCV split up: only for Support Services.\n",
    "\n",
    "df_ss[\"ccm\"] = df_ss[\"client_country_manufacturer\"]\n",
    "total_net_value_ss = df_ss.groupby(\"client_country_manufacturer\").agg({\"net_value_usd_x_calc\":\"sum\",\"ccm\":\"count\"}).reset_index()\n",
    "total_net_value_ss.rename(columns = {'net_value_usd_x_calc':'total_net_value','ccm':'count'}, inplace = True)\n",
    "total_net_value_ss = pd.DataFrame(total_net_value_ss)\n",
    "df_ss = df_ss.merge(total_net_value_ss,how=\"left\",on=\"client_country_manufacturer\")\n",
    "\n",
    "# since no NA:\n",
    "df_ss[\"proportion_1\"] = 1/df_ss[\"count\"]"
   ]
  },
  {
   "cell_type": "code",
   "execution_count": 22,
   "metadata": {},
   "outputs": [
    {
     "name": "stderr",
     "output_type": "stream",
     "text": [
      "C:\\Users\\gramener\\Anaconda3\\lib\\site-packages\\ipykernel_launcher.py:2: SettingWithCopyWarning: \n",
      "A value is trying to be set on a copy of a slice from a DataFrame.\n",
      "Try using .loc[row_indexer,col_indexer] = value instead\n",
      "\n",
      "See the caveats in the documentation: http://pandas.pydata.org/pandas-docs/stable/user_guide/indexing.html#returning-a-view-versus-a-copy\n",
      "  \n"
     ]
    }
   ],
   "source": [
    "# Creating TCV split up: only for VBR.\n",
    "df_vbr[\"ccm\"] = df_vbr[\"client_country_manufacturer\"]\n",
    "total_net_value_vbr = df_vbr.groupby(\"client_country_manufacturer\").agg({\"net_value_usd_x_calc\":\"sum\",\"ccm\":\"count\"}).reset_index()\n",
    "total_net_value_vbr.rename(columns = {'net_value_usd_x_calc':'total_net_value','ccm':'count'}, inplace = True)\n",
    "total_net_value_vbr = pd.DataFrame(total_net_value_vbr)\n",
    "df_vbr = df_vbr.merge(total_net_value_vbr,how=\"left\",on=\"client_country_manufacturer\")\n",
    "\n",
    "# since no NA:\n",
    "df_vbr[\"proportion_1\"] = 1/df_vbr[\"count\"]\n"
   ]
  },
  {
   "cell_type": "code",
   "execution_count": 23,
   "metadata": {},
   "outputs": [],
   "source": [
    "# Appending df_ss and df_vbr:\n",
    "contracts_1 = df_ss.append(df_vbr, ignore_index=True)"
   ]
  },
  {
   "cell_type": "code",
   "execution_count": 24,
   "metadata": {},
   "outputs": [],
   "source": [
    "# Net_Value_USD SPLIT :\n",
    "contracts_1[\"net_value_usd_x_calc_1\"] = contracts_1[\"total_net_value\"] * contracts_1[\"proportion_1\"]"
   ]
  },
  {
   "cell_type": "code",
   "execution_count": 25,
   "metadata": {},
   "outputs": [
    {
     "data": {
      "text/plain": [
       "2770707092.496568"
      ]
     },
     "execution_count": 25,
     "metadata": {},
     "output_type": "execute_result"
    }
   ],
   "source": [
    "# Validation Check net_value_usd_x_calc_1:\n",
    "# TCV\n",
    "merged_netvalue = contracts_1[\"net_value_usd_x_calc_1\"].sum()\n",
    "merged_netvalue"
   ]
  },
  {
   "cell_type": "code",
   "execution_count": 26,
   "metadata": {},
   "outputs": [
    {
     "data": {
      "text/plain": [
       "1201418632.4175608"
      ]
     },
     "execution_count": 26,
     "metadata": {},
     "output_type": "execute_result"
    }
   ],
   "source": [
    "# VBR:\n",
    "vbr_netvalue = contracts_1[contracts_1['portfolio'].isin([\"VBR\"])]\n",
    "vbr_netvalue = vbr_netvalue[\"net_value_usd_x_calc_1\"].sum()\n",
    "vbr_netvalue"
   ]
  },
  {
   "cell_type": "code",
   "execution_count": 27,
   "metadata": {},
   "outputs": [
    {
     "data": {
      "text/plain": [
       "1569288460.079007"
      ]
     },
     "execution_count": 27,
     "metadata": {},
     "output_type": "execute_result"
    }
   ],
   "source": [
    "# Support-Services:\n",
    "ss_netvalue = contracts_1[contracts_1['portfolio'].isin([\"Support Services\"])]\n",
    "ss_netvalue = ss_netvalue[\"net_value_usd_x_calc_1\"].sum()\n",
    "ss_netvalue"
   ]
  },
  {
   "cell_type": "markdown",
   "metadata": {},
   "source": [
    "# ROLL-UP"
   ]
  },
  {
   "cell_type": "code",
   "execution_count": 28,
   "metadata": {},
   "outputs": [],
   "source": [
    "#Filtering columns:\n",
    "rolled_up_filter = contracts_1[[\"client_country\", \"country\",\"client_country_manufacturer\",\"adjusted_client_domain_description\",\"manufacturer\",\"proportion_1\",\"portfolio\",\"net_value_usd_x_calc_1\"]]\n",
    "rolled_up_data = pd.DataFrame(rolled_up_filter)"
   ]
  },
  {
   "cell_type": "code",
   "execution_count": 29,
   "metadata": {},
   "outputs": [],
   "source": [
    "#GROUPING- MAIN ROLL-UP:\n",
    "roll_test = rolled_up_data.groupby([\"client_country\",\"country\",\"adjusted_client_domain_description\",\"manufacturer\",\"portfolio\"]).agg({\"net_value_usd_x_calc_1\":\"sum\"}).reset_index()\n",
    "roll_test.rename(columns = {'net_value_usd_x_calc_1':'grand_total'}, inplace = True)\n",
    "\n",
    "#Melt grand_total across VBR and Support Services:\n",
    "rolled_up_view=roll_test.pivot_table(index=['client_country','country','adjusted_client_domain_description','manufacturer'],columns='portfolio',values='grand_total',fill_value=0).reset_index()\n",
    "rolled_up_view[\"grand_total\"] = rolled_up_view[\"Support Services\"] +  rolled_up_view[\"VBR\"]\n",
    "\n",
    "rolled_up_view[\"client_country_manufacturer\"]= rolled_up_view.client_country.astype(str) + \"-\" + rolled_up_view.manufacturer.astype(str)\n",
    "\n",
    "#Rearranging:\n",
    "rolled_up_view = rolled_up_view[[\"adjusted_client_domain_description\",\"country\",\"client_country\",\"manufacturer\",\"client_country_manufacturer\",\"Support Services\",\"VBR\",\"grand_total\"]]\n",
    "\n"
   ]
  },
  {
   "cell_type": "markdown",
   "metadata": {},
   "source": [
    "# DERIVED - METRICS"
   ]
  },
  {
   "cell_type": "code",
   "execution_count": 30,
   "metadata": {},
   "outputs": [],
   "source": [
    "#client_country_manufacturer_both_1_uptime_2_vbr_3:\n",
    "client_country_manufacturer_both_1_uptime_2_vbr_3 = rolled_up_view.groupby(\"client_country_manufacturer\").agg({\"VBR\":\"sum\", \"Support Services\":\"sum\"}).reset_index()\n",
    "client_country_manufacturer_both_1_uptime_2_vbr_3.rename(columns = {'VBR':'total_vbr','Support Services':'total_ss'}, inplace = True)\n",
    "client_country_manufacturer_both_1_uptime_2_vbr_3 = pd.DataFrame(client_country_manufacturer_both_1_uptime_2_vbr_3)\n",
    "\n",
    "#Nested condition for assigning 1,2,3,4:\n",
    "conditions = [(client_country_manufacturer_both_1_uptime_2_vbr_3[\"total_ss\"] != 0) & (client_country_manufacturer_both_1_uptime_2_vbr_3[\"total_vbr\"]!=0),\n",
    "             (client_country_manufacturer_both_1_uptime_2_vbr_3[\"total_ss\"] != 0) & (client_country_manufacturer_both_1_uptime_2_vbr_3[\"total_vbr\"]==0),\n",
    "             (client_country_manufacturer_both_1_uptime_2_vbr_3[\"total_ss\"] == 0) & (client_country_manufacturer_both_1_uptime_2_vbr_3[\"total_vbr\"]!=0)]\n",
    "choices = [1,2,3]\n",
    "client_country_manufacturer_both_1_uptime_2_vbr_3[\"client_country_manufacturer_both_1_uptime_2_vbr_3\"] = np.select(conditions, choices, default= 4)\n",
    "\n",
    "#selecting columns for merge:\n",
    "client_country_manufacturer_both_1_uptime_2_vbr_3 = client_country_manufacturer_both_1_uptime_2_vbr_3[[\"client_country_manufacturer\",\"client_country_manufacturer_both_1_uptime_2_vbr_3\"]]\n",
    "\n",
    "#merge:\n",
    "rolled_up_view = rolled_up_view.merge(client_country_manufacturer_both_1_uptime_2_vbr_3, how=\"left\", on= \"client_country_manufacturer\")\n",
    "rolled_up_view[\"client_country_manufacturer_both_1_uptime_2_vbr_3\"] = np.where(rolled_up_view[\"client_country_manufacturer_both_1_uptime_2_vbr_3\"].isna(),4,rolled_up_view[\"client_country_manufacturer_both_1_uptime_2_vbr_3\"])\n"
   ]
  },
  {
   "cell_type": "code",
   "execution_count": 31,
   "metadata": {},
   "outputs": [
    {
     "data": {
      "text/plain": [
       "27659"
      ]
     },
     "execution_count": 31,
     "metadata": {},
     "output_type": "execute_result"
    }
   ],
   "source": [
    "#multiple_overall:\n",
    "multiple_overall = rolled_up_view.groupby(\"client_country\").agg({\"manufacturer\":\"nunique\"}).reset_index()\n",
    "multiple_overall.rename(columns = {'manufacturer':'count'}, inplace = True)\n",
    "multiple_overall = multiple_overall[multiple_overall[\"count\"]>1]\n",
    "multiple_overall = pd.DataFrame(multiple_overall)\n",
    "\n",
    "multiple_overall[\"multiple_overall\"] = 1\n",
    "\n",
    "multiple_overall = multiple_overall[[\"client_country\", \"multiple_overall\"]]\n",
    "\n",
    "rolled_up_view = rolled_up_view.merge(multiple_overall, how=\"left\", on= \"client_country\")\n",
    "rolled_up_view[\"multiple_overall\"] = np.where(rolled_up_view[\"multiple_overall\"].isna(),0,1)\n",
    "rolled_up_view.multiple_overall.sum()"
   ]
  },
  {
   "cell_type": "code",
   "execution_count": 32,
   "metadata": {},
   "outputs": [
    {
     "name": "stderr",
     "output_type": "stream",
     "text": [
      "C:\\Users\\gramener\\Anaconda3\\lib\\site-packages\\ipykernel_launcher.py:5: SettingWithCopyWarning: \n",
      "A value is trying to be set on a copy of a slice from a DataFrame.\n",
      "Try using .loc[row_indexer,col_indexer] = value instead\n",
      "\n",
      "See the caveats in the documentation: http://pandas.pydata.org/pandas-docs/stable/user_guide/indexing.html#returning-a-view-versus-a-copy\n",
      "  \"\"\"\n"
     ]
    },
    {
     "data": {
      "text/plain": [
       "32479"
      ]
     },
     "execution_count": 32,
     "metadata": {},
     "output_type": "execute_result"
    }
   ],
   "source": [
    "#client_uptime:\n",
    "mask_1 = rolled_up_view[\"Support Services\"] != 0\n",
    "\n",
    "client_uptime = rolled_up_view[mask_1]\n",
    "client_uptime[\"c\"] = client_uptime[\"adjusted_client_domain_description\"]\n",
    "\n",
    "client_uptime = client_uptime.groupby(\"adjusted_client_domain_description\").agg({\"c\":\"count\"}).reset_index()\n",
    "client_uptime.rename(columns = {'c':'count'}, inplace = True)\n",
    "client_uptime = pd.DataFrame(client_uptime)\n",
    "\n",
    "client_uptime[\"client_uptime\"] = 1\n",
    "client_uptime = client_uptime[[\"adjusted_client_domain_description\", \"client_uptime\"]]\n",
    "\n",
    "rolled_up_view = rolled_up_view.merge(client_uptime, how=\"left\", on= \"adjusted_client_domain_description\")\n",
    "rolled_up_view[\"client_uptime\"] = np.where(rolled_up_view[\"client_uptime\"].isna(),0,1)\n",
    "\n",
    "rolled_up_view.client_uptime.sum()"
   ]
  },
  {
   "cell_type": "code",
   "execution_count": 33,
   "metadata": {},
   "outputs": [
    {
     "name": "stderr",
     "output_type": "stream",
     "text": [
      "C:\\Users\\gramener\\Anaconda3\\lib\\site-packages\\ipykernel_launcher.py:5: SettingWithCopyWarning: \n",
      "A value is trying to be set on a copy of a slice from a DataFrame.\n",
      "Try using .loc[row_indexer,col_indexer] = value instead\n",
      "\n",
      "See the caveats in the documentation: http://pandas.pydata.org/pandas-docs/stable/user_guide/indexing.html#returning-a-view-versus-a-copy\n",
      "  \"\"\"\n"
     ]
    },
    {
     "data": {
      "text/plain": [
       "30398"
      ]
     },
     "execution_count": 33,
     "metadata": {},
     "output_type": "execute_result"
    }
   ],
   "source": [
    "#client_country_uptime:\n",
    "mask_1 = rolled_up_view[\"Support Services\"] != 0\n",
    "\n",
    "client_country_uptime = rolled_up_view[mask_1]\n",
    "client_country_uptime[\"cc\"] = client_country_uptime[\"client_country\"]\n",
    "\n",
    "client_country_uptime = client_country_uptime.groupby(\"client_country\").agg({\"cc\":\"count\"}).reset_index()\n",
    "client_country_uptime.rename(columns = {'cc':'count'}, inplace = True)\n",
    "client_country_uptime = pd.DataFrame(client_country_uptime)\n",
    "\n",
    "client_country_uptime[\"client_country_uptime\"] = 1\n",
    "client_country_uptime = client_country_uptime[[\"client_country\", \"client_country_uptime\"]]\n",
    "\n",
    "rolled_up_view = rolled_up_view.merge(client_country_uptime, how=\"left\", on= \"client_country\")\n",
    "rolled_up_view[\"client_country_uptime\"] = np.where(rolled_up_view[\"client_country_uptime\"].isna(),0,1)\n",
    "\n",
    "rolled_up_view.client_country_uptime.sum()\n",
    "#343714"
   ]
  },
  {
   "cell_type": "code",
   "execution_count": 34,
   "metadata": {},
   "outputs": [
    {
     "name": "stderr",
     "output_type": "stream",
     "text": [
      "C:\\Users\\gramener\\Anaconda3\\lib\\site-packages\\ipykernel_launcher.py:16: SettingWithCopyWarning: \n",
      "A value is trying to be set on a copy of a slice from a DataFrame.\n",
      "Try using .loc[row_indexer,col_indexer] = value instead\n",
      "\n",
      "See the caveats in the documentation: http://pandas.pydata.org/pandas-docs/stable/user_guide/indexing.html#returning-a-view-versus-a-copy\n",
      "  app.launch_new_instance()\n"
     ]
    }
   ],
   "source": [
    "# Success_play 3 new logic:\n",
    "\n",
    "#creating client-manufacturer:\n",
    "rolled_up_view[\"client_manufacturer\"]= rolled_up_view.adjusted_client_domain_description.astype(str) + \"-\" + rolled_up_view.manufacturer.astype(str)\n",
    "\n",
    "#selecting data for grouping:\n",
    "sp3_data = rolled_up_view[[\"client_manufacturer\",\"VBR\",\"Support Services\",\"grand_total\"]]\n",
    "\n",
    "#grouping by client-manufacturer and getting net value for each client manufacturer group:\n",
    "sp3_data = sp3_data.groupby(\"client_manufacturer\").agg({\"VBR\":\"sum\", \"Support Services\":\"sum\"}).reset_index()\n",
    "sp3_data.rename(columns = {'VBR':'total_vbr','Support Services':'total_ss'}, inplace = True)\n",
    "\n",
    "# flagging client_manufacturer combination having both vbr and ss:\n",
    "\n",
    "distinct_client_country = sp3_data[(sp3_data[\"total_vbr\"]!= 0) & (sp3_data[\"total_ss\"]!= 0)]\n",
    "distinct_client_country[\"flag\"] = 1\n",
    "distinct_client_country = distinct_client_country[[\"client_manufacturer\",\"flag\"]]\n",
    "\n",
    "#merging distinct_client_country with rolled_up_view to get flag.\n",
    "rolled_up_view = rolled_up_view.merge(distinct_client_country, how=\"left\", on=\"client_manufacturer\")\n",
    "rolled_up_view[\"flag\"] = np.where(rolled_up_view[\"flag\"].isna(),0,1)\n",
    "\n",
    "mask_1 = rolled_up_view[\"Support Services\"] != 0\n",
    "mask_2 = rolled_up_view[\"VBR\"] != 0\n",
    "\n",
    "s3_ss = rolled_up_view[mask_1]\n",
    "s3_ss = pd.unique(s3_ss[\"client_country_manufacturer\"])\n",
    "s3_ss = pd.DataFrame(s3_ss)\n",
    "\n",
    "s3_vbr = rolled_up_view[mask_2]\n",
    "s3_vbr = pd.unique(s3_vbr[\"client_country_manufacturer\"])\n",
    "s3_vbr = pd.DataFrame(s3_vbr)\n",
    "\n",
    "s3_ss[\"f\"] = \"ss\"\n",
    "s3_vbr[\"f\"] = \"vbr\"\n",
    "\n",
    "s3_ss.rename(columns = {0:'client_country_manufacturer'}, inplace = True)\n",
    "s3_vbr.rename(columns = {0:'client_country_manufacturer'}, inplace = True)\n",
    "\n",
    "vbr_left = s3_vbr.merge(s3_ss, how= \"left\", on=\"client_country_manufacturer\")\n",
    "vbr_left[\"check\"] = np.where(vbr_left[\"f_y\"].isna(),1,0)\n",
    "vbr_left = vbr_left[[\"client_country_manufacturer\", \"check\"]]\n",
    "\n",
    "rolled_up_view = rolled_up_view.merge(vbr_left, how = \"left\", on=\"client_country_manufacturer\")\n",
    "rolled_up_view[\"check\"] = np.where(rolled_up_view[\"check\"].isna(),0,1)\n",
    "rolled_up_view[\"check_final\"] = np.where((rolled_up_view[\"flag\"]==1) & (rolled_up_view[\"check\"]==1) ,1,0)"
   ]
  },
  {
   "cell_type": "code",
   "execution_count": 35,
   "metadata": {},
   "outputs": [],
   "source": [
    "# CALCULATING SUCCESS_PLAYS:\n",
    "\n",
    "rolled_up_view[\"success_play_1\"] = np.where((rolled_up_view[\"client_country_manufacturer_both_1_uptime_2_vbr_3\"] ==1),1,0)\n",
    "\n",
    "rolled_up_view[\"success_play_2\"] = np.where(((rolled_up_view[\"multiple_overall\"] ==1) & (rolled_up_view[\"success_play_1\"] ==0) & (rolled_up_view[\"client_country_uptime\"] ==1) & (rolled_up_view[\"client_country_manufacturer_both_1_uptime_2_vbr_3\"] ==3)) ,1,0)\n",
    "\n",
    "rolled_up_view[\"success_play_3\"] = np.where(((rolled_up_view[\"client_country_manufacturer_both_1_uptime_2_vbr_3\"] ==3) & (rolled_up_view[\"check_final\"]==1)),1,0)\n",
    "\n",
    "rolled_up_view[\"success_play_4\"] = np.where((rolled_up_view[\"client_uptime\"]==1),1,0)\n"
   ]
  },
  {
   "cell_type": "code",
   "execution_count": 36,
   "metadata": {},
   "outputs": [],
   "source": [
    "#Nested condition for success_play:\n",
    "conditions = [(rolled_up_view[\"success_play_1\"] == 1),\n",
    "             ((rolled_up_view[\"success_play_1\"]==0) & (rolled_up_view[\"success_play_2\"] ==1)),\n",
    "             ((rolled_up_view[\"success_play_1\"]==0) & (rolled_up_view[\"success_play_2\"]==0) & (rolled_up_view[\"success_play_3\"]==1)),\n",
    "             ((rolled_up_view[\"success_play_1\"]==0) & (rolled_up_view[\"success_play_2\"]==0) & (rolled_up_view[\"success_play_3\"]==0) &(rolled_up_view[\"success_play_4\"]==1))]\n",
    "choices = [1,2,3,4]\n",
    "rolled_up_view[\"success_play\"] = np.select(conditions, choices, default=\"No Success Play\")\n"
   ]
  },
  {
   "cell_type": "markdown",
   "metadata": {},
   "source": [
    "# Validating Success_Play Netval:"
   ]
  },
  {
   "cell_type": "code",
   "execution_count": 37,
   "metadata": {},
   "outputs": [
    {
     "data": {
      "text/plain": [
       "650547897.4114052"
      ]
     },
     "execution_count": 37,
     "metadata": {},
     "output_type": "execute_result"
    }
   ],
   "source": [
    "# SS_1\n",
    "SS_1_netval = rolled_up_view[rolled_up_view[\"success_play_1\"]==1]\n",
    "SS_1_netval = SS_1_netval[\"grand_total\"].sum()\n",
    "SS_1_netval"
   ]
  },
  {
   "cell_type": "code",
   "execution_count": 38,
   "metadata": {},
   "outputs": [
    {
     "data": {
      "text/plain": [
       "395792054.95038074"
      ]
     },
     "execution_count": 38,
     "metadata": {},
     "output_type": "execute_result"
    }
   ],
   "source": [
    "# SS_2\n",
    "SS_2_netval = rolled_up_view[rolled_up_view[\"success_play_2\"]==1]\n",
    "SS_2_netval = SS_2_netval[\"grand_total\"].sum()\n",
    "SS_2_netval"
   ]
  },
  {
   "cell_type": "code",
   "execution_count": 39,
   "metadata": {},
   "outputs": [
    {
     "data": {
      "text/plain": [
       "246102090.66820613"
      ]
     },
     "execution_count": 39,
     "metadata": {},
     "output_type": "execute_result"
    }
   ],
   "source": [
    "# SS_3\n",
    "SS_3_netval = rolled_up_view[rolled_up_view[\"success_play_3\"]==1]\n",
    "SS_3_netval = SS_3_netval[\"grand_total\"].sum()\n",
    "SS_3_netval"
   ]
  },
  {
   "cell_type": "code",
   "execution_count": 40,
   "metadata": {},
   "outputs": [
    {
     "data": {
      "text/plain": [
       "2480304172.736837"
      ]
     },
     "execution_count": 40,
     "metadata": {},
     "output_type": "execute_result"
    }
   ],
   "source": [
    "# SS_4\n",
    "SS_4_netval = rolled_up_view[rolled_up_view[\"success_play_4\"]==1]\n",
    "SS_4_netval = SS_4_netval[\"grand_total\"].sum()\n",
    "SS_4_netval"
   ]
  },
  {
   "cell_type": "code",
   "execution_count": 41,
   "metadata": {},
   "outputs": [],
   "source": [
    "# Creating TPIC_FLAG:client_country:\n",
    "Tpic = rolled_up_view.groupby(\"client_country\").agg({\"manufacturer\":\"nunique\"}).reset_index()\n",
    "Tpic.rename(columns = {'manufacturer':'count'}, inplace = True)\n",
    "Tpic = Tpic[Tpic[\"count\"]>1]\n",
    "Tpic[\"TPIC_FLAG\"] = 1\n",
    "Tpic = Tpic[[\"client_country\",\"TPIC_FLAG\"]]\n",
    "Tpic = pd.DataFrame(Tpic)\n",
    "\n",
    "rolled_up_view= rolled_up_view.merge(Tpic, how=\"left\" , on=\"client_country\")\n",
    "rolled_up_view[\"TPIC_FLAG\"] = np.where((rolled_up_view[\"TPIC_FLAG\"].isna()),0,1)"
   ]
  },
  {
   "cell_type": "code",
   "execution_count": 42,
   "metadata": {},
   "outputs": [],
   "source": [
    "# rearranging:\n",
    "rolled_up_view_1 = rolled_up_view[[\"client_country\",\"country\",\"adjusted_client_domain_description\",\"manufacturer\",\"Support Services\",\"VBR\",\"grand_total\",\"success_play_1\",\"success_play_2\",\"success_play_3\",\"success_play_4\",\"success_play\",\"TPIC_FLAG\"]]"
   ]
  },
  {
   "cell_type": "code",
   "execution_count": 43,
   "metadata": {},
   "outputs": [
    {
     "data": {
      "text/plain": [
       "2735034362.55196"
      ]
     },
     "execution_count": 43,
     "metadata": {},
     "output_type": "execute_result"
    }
   ],
   "source": [
    "rolled_up_view_1[\"grand_total\"].sum()\n"
   ]
  },
  {
   "cell_type": "code",
   "execution_count": 142,
   "metadata": {},
   "outputs": [],
   "source": [
    "#Output:\n",
    "df1 = pd.DataFrame(rolled_up_view_1)\n",
    "df1.to_excel(\"CCM_view_python_op.xlsx\")"
   ]
  },
  {
   "cell_type": "code",
   "execution_count": null,
   "metadata": {},
   "outputs": [],
   "source": []
  },
  {
   "cell_type": "code",
   "execution_count": null,
   "metadata": {},
   "outputs": [],
   "source": []
  },
  {
   "cell_type": "code",
   "execution_count": null,
   "metadata": {},
   "outputs": [],
   "source": []
  },
  {
   "cell_type": "code",
   "execution_count": null,
   "metadata": {},
   "outputs": [],
   "source": []
  },
  {
   "cell_type": "code",
   "execution_count": null,
   "metadata": {},
   "outputs": [],
   "source": []
  },
  {
   "cell_type": "code",
   "execution_count": null,
   "metadata": {},
   "outputs": [],
   "source": []
  },
  {
   "cell_type": "code",
   "execution_count": null,
   "metadata": {},
   "outputs": [],
   "source": []
  },
  {
   "cell_type": "code",
   "execution_count": null,
   "metadata": {},
   "outputs": [],
   "source": []
  },
  {
   "cell_type": "code",
   "execution_count": null,
   "metadata": {},
   "outputs": [],
   "source": []
  },
  {
   "cell_type": "code",
   "execution_count": null,
   "metadata": {},
   "outputs": [],
   "source": []
  },
  {
   "cell_type": "code",
   "execution_count": null,
   "metadata": {},
   "outputs": [],
   "source": []
  },
  {
   "cell_type": "code",
   "execution_count": null,
   "metadata": {},
   "outputs": [],
   "source": []
  },
  {
   "cell_type": "code",
   "execution_count": null,
   "metadata": {},
   "outputs": [],
   "source": []
  },
  {
   "cell_type": "code",
   "execution_count": null,
   "metadata": {},
   "outputs": [],
   "source": []
  },
  {
   "cell_type": "code",
   "execution_count": null,
   "metadata": {},
   "outputs": [],
   "source": []
  },
  {
   "cell_type": "code",
   "execution_count": null,
   "metadata": {},
   "outputs": [],
   "source": []
  },
  {
   "cell_type": "code",
   "execution_count": null,
   "metadata": {},
   "outputs": [],
   "source": []
  },
  {
   "cell_type": "code",
   "execution_count": null,
   "metadata": {},
   "outputs": [],
   "source": []
  },
  {
   "cell_type": "code",
   "execution_count": null,
   "metadata": {},
   "outputs": [],
   "source": []
  },
  {
   "cell_type": "code",
   "execution_count": null,
   "metadata": {},
   "outputs": [],
   "source": []
  },
  {
   "cell_type": "code",
   "execution_count": null,
   "metadata": {},
   "outputs": [],
   "source": []
  },
  {
   "cell_type": "code",
   "execution_count": null,
   "metadata": {},
   "outputs": [],
   "source": []
  },
  {
   "cell_type": "code",
   "execution_count": null,
   "metadata": {},
   "outputs": [],
   "source": []
  },
  {
   "cell_type": "code",
   "execution_count": null,
   "metadata": {},
   "outputs": [],
   "source": []
  },
  {
   "cell_type": "code",
   "execution_count": null,
   "metadata": {},
   "outputs": [],
   "source": []
  }
 ],
 "metadata": {
  "kernelspec": {
   "display_name": "Python 3",
   "language": "python",
   "name": "python3"
  },
  "language_info": {
   "codemirror_mode": {
    "name": "ipython",
    "version": 3
   },
   "file_extension": ".py",
   "mimetype": "text/x-python",
   "name": "python",
   "nbconvert_exporter": "python",
   "pygments_lexer": "ipython3",
   "version": "3.7.3"
  },
  "varInspector": {
   "cols": {
    "lenName": 16,
    "lenType": 16,
    "lenVar": 40
   },
   "kernels_config": {
    "python": {
     "delete_cmd_postfix": "",
     "delete_cmd_prefix": "del ",
     "library": "var_list.py",
     "varRefreshCmd": "print(var_dic_list())"
    },
    "r": {
     "delete_cmd_postfix": ") ",
     "delete_cmd_prefix": "rm(",
     "library": "var_list.r",
     "varRefreshCmd": "cat(var_dic_list()) "
    }
   },
   "position": {
    "height": "539px",
    "left": "734px",
    "right": "20px",
    "top": "121px",
    "width": "608px"
   },
   "types_to_exclude": [
    "module",
    "function",
    "builtin_function_or_method",
    "instance",
    "_Feature"
   ],
   "window_display": false
  }
 },
 "nbformat": 4,
 "nbformat_minor": 4
}
